{
 "cells": [
  {
   "cell_type": "code",
   "execution_count": 112,
   "id": "491539e5",
   "metadata": {},
   "outputs": [
    {
     "name": "stdout",
     "output_type": "stream",
     "text": [
      "Requirement already satisfied: pandas in /Users/schadem/.pyenv/versions/3.9.6/envs/biertoto/lib/python3.9/site-packages (1.3.4)\n",
      "Requirement already satisfied: openpyxl in /Users/schadem/.pyenv/versions/3.9.6/envs/biertoto/lib/python3.9/site-packages (3.0.9)\n",
      "Requirement already satisfied: matplotlib in /Users/schadem/.pyenv/versions/3.9.6/envs/biertoto/lib/python3.9/site-packages (3.4.3)\n",
      "Requirement already satisfied: pytz>=2017.3 in /Users/schadem/.pyenv/versions/3.9.6/envs/biertoto/lib/python3.9/site-packages (from pandas) (2021.3)\n",
      "Requirement already satisfied: python-dateutil>=2.7.3 in /Users/schadem/.pyenv/versions/3.9.6/envs/biertoto/lib/python3.9/site-packages (from pandas) (2.8.2)\n",
      "Requirement already satisfied: numpy>=1.17.3 in /Users/schadem/.pyenv/versions/3.9.6/envs/biertoto/lib/python3.9/site-packages (from pandas) (1.21.3)\n",
      "Requirement already satisfied: et-xmlfile in /Users/schadem/.pyenv/versions/3.9.6/envs/biertoto/lib/python3.9/site-packages (from openpyxl) (1.1.0)\n",
      "Requirement already satisfied: pillow>=6.2.0 in /Users/schadem/.pyenv/versions/3.9.6/envs/biertoto/lib/python3.9/site-packages (from matplotlib) (8.4.0)\n",
      "Requirement already satisfied: cycler>=0.10 in /Users/schadem/.pyenv/versions/3.9.6/envs/biertoto/lib/python3.9/site-packages (from matplotlib) (0.11.0)\n",
      "Requirement already satisfied: pyparsing>=2.2.1 in /Users/schadem/.pyenv/versions/3.9.6/envs/biertoto/lib/python3.9/site-packages (from matplotlib) (2.4.7)\n",
      "Requirement already satisfied: kiwisolver>=1.0.1 in /Users/schadem/.pyenv/versions/3.9.6/envs/biertoto/lib/python3.9/site-packages (from matplotlib) (1.3.2)\n",
      "Requirement already satisfied: six>=1.5 in /Users/schadem/.pyenv/versions/3.9.6/envs/biertoto/lib/python3.9/site-packages (from python-dateutil>=2.7.3->pandas) (1.16.0)\n"
     ]
    }
   ],
   "source": [
    "!python -m pip install pandas openpyxl matplotlib"
   ]
  },
  {
   "cell_type": "code",
   "execution_count": 130,
   "id": "8e2dfa00",
   "metadata": {},
   "outputs": [],
   "source": [
    "import pandas as pd\n",
    "import numpy as np"
   ]
  },
  {
   "cell_type": "code",
   "execution_count": 131,
   "id": "256246f4",
   "metadata": {},
   "outputs": [],
   "source": [
    "df = pd.read_excel(\"data/Biertoto.xlsx\")"
   ]
  },
  {
   "cell_type": "code",
   "execution_count": 132,
   "id": "1e07ad9e",
   "metadata": {},
   "outputs": [],
   "source": [
    "df = df.dropna(subset=['Heim']).copy()"
   ]
  },
  {
   "cell_type": "code",
   "execution_count": 133,
   "id": "4c34391a",
   "metadata": {},
   "outputs": [],
   "source": [
    "def home_draw_away_generic(home_goals, away_goals)->str:\n",
    "    \"\"\"\n",
    "    A = away team won\n",
    "    H = home team won\n",
    "    D = draw\n",
    "    \"\"\"\n",
    "    diff = home_goals - away_goals\n",
    "    if pd.isnull(home_goals) or pd.isnull(away_goals):\n",
    "        return np.nan\n",
    "    if diff < 0:\n",
    "        return 'A'\n",
    "    elif diff > 0:\n",
    "        return 'H'\n",
    "    else:\n",
    "        return 'D'\n"
   ]
  },
  {
   "cell_type": "code",
   "execution_count": 134,
   "id": "e2c2ecca",
   "metadata": {},
   "outputs": [],
   "source": [
    "def home_draw_away(row):\n",
    "    return home_draw_away_generic(row['Htore'], row['Gtore'])\n",
    "    "
   ]
  },
  {
   "cell_type": "code",
   "execution_count": 135,
   "id": "3821c521",
   "metadata": {},
   "outputs": [],
   "source": [
    "def home_draw_away_uwe(row):\n",
    "    return home_draw_away_generic(row['UHT'], row['UGT'])"
   ]
  },
  {
   "cell_type": "code",
   "execution_count": 136,
   "id": "f38293a9",
   "metadata": {},
   "outputs": [],
   "source": [
    "def home_draw_away_schadix(row):\n",
    "    return home_draw_away_generic(row['SHT'], row['SGT'])"
   ]
  },
  {
   "cell_type": "code",
   "execution_count": 156,
   "id": "6d03fa6e",
   "metadata": {},
   "outputs": [],
   "source": [
    "def match_result_generic(home_goals_1, away_goals_1, home_goals_2, away_goals_2)->bool:\n",
    "    if pd.isnull(home_goals_1) or pd.isnull(away_goals_1) or pd.isnull(home_goals_2) or pd.isnull(away_goals_2):\n",
    "        return False\n",
    "    try:\n",
    "        return int(home_goals_1) == int(home_goals_2) and int(away_goals_1) == int(away_goals_2)\n",
    "    except ValueError:\n",
    "        return False\n",
    "\n",
    "    "
   ]
  },
  {
   "cell_type": "code",
   "execution_count": 157,
   "id": "3630c120",
   "metadata": {},
   "outputs": [],
   "source": [
    "def same_goal_difference(home_goals_1, away_goals_1, home_goals_2, away_goals_2)->bool:\n",
    "    if pd.isnull(home_goals_1) or pd.isnull(away_goals_1) or pd.isnull(home_goals_2) or pd.isnull(away_goals_2):\n",
    "        return False\n",
    "    try:\n",
    "        return int(home_goals_1) - int(away_goals_1) == int(home_goals_2) - int(away_goals_2)\n",
    "    except ValueError:\n",
    "        return False\n",
    "\n",
    "    "
   ]
  },
  {
   "cell_type": "code",
   "execution_count": 158,
   "id": "759a66a3",
   "metadata": {},
   "outputs": [],
   "source": [
    "def same_goal_difference_uwe(row)->bool:\n",
    "    return same_goal_difference(home_goals_1=row['UHT'], \n",
    "                                  away_goals_1=row['UGT'], \n",
    "                                  home_goals_2=row['Htore'], \n",
    "                                  away_goals_2=row['Gtore'])"
   ]
  },
  {
   "cell_type": "code",
   "execution_count": 159,
   "id": "e98e7820",
   "metadata": {},
   "outputs": [],
   "source": [
    "def same_goal_difference_schadix(row)->bool:\n",
    "    return same_goal_difference(home_goals_1=row['SHT'], \n",
    "                                  away_goals_1=row['SGT'],\n",
    "                                  home_goals_2=row['Htore'], \n",
    "                                  away_goals_2=row['Gtore'])"
   ]
  },
  {
   "cell_type": "code",
   "execution_count": 160,
   "id": "2f9df07a",
   "metadata": {},
   "outputs": [],
   "source": [
    "def same_result_uwe(row)->bool:\n",
    "    return match_result_generic(home_goals_1=row['UHT'], \n",
    "                                  away_goals_1=row['UGT'], \n",
    "                                  home_goals_2=row['Htore'], \n",
    "                                  away_goals_2=row['Gtore'])"
   ]
  },
  {
   "cell_type": "code",
   "execution_count": 161,
   "id": "6372c2d7",
   "metadata": {},
   "outputs": [],
   "source": [
    "def same_result_schadix(row)->bool:\n",
    "    return match_result_generic(home_goals_1=row['SHT'], \n",
    "                                  away_goals_1=row['SGT'], \n",
    "                                  home_goals_2=row['Htore'], \n",
    "                                  away_goals_2=row['Gtore'])"
   ]
  },
  {
   "cell_type": "code",
   "execution_count": 162,
   "id": "aa5ae9c4",
   "metadata": {},
   "outputs": [],
   "source": [
    "def get_year(row)->int:\n",
    "    \"\"\"add 19 to string with split on / in case of 9x else add 20\"\"\"\n",
    "    saison = row['Saison']\n",
    "    first_year, second_year = saison.split('/')\n",
    "    first_year = first_year.strip()\n",
    "    if first_year.startswith('9'):\n",
    "        return int(\"19\"+first_year)\n",
    "    else:\n",
    "        return int(\"20\"+first_year)\n",
    "        "
   ]
  },
  {
   "cell_type": "code",
   "execution_count": 163,
   "id": "06760b7b",
   "metadata": {},
   "outputs": [],
   "source": [
    "def calculate_points_generic(tendency:bool=False, \n",
    "                             same_goal_difference:bool=False, \n",
    "                             same_result:bool=False,\n",
    "                            draw:bool=False)->int:\n",
    "    result_points = 0\n",
    "    if tendency:\n",
    "        result_points += 2\n",
    "    if same_goal_difference and not draw:\n",
    "        result_points += 1\n",
    "    if same_result:\n",
    "        if not draw:\n",
    "            result_points += 1\n",
    "        else:\n",
    "            result_point += 2\n",
    "    return result_points\n",
    "    "
   ]
  },
  {
   "cell_type": "code",
   "execution_count": 164,
   "id": "fe276f53",
   "metadata": {},
   "outputs": [],
   "source": [
    "df['year'] = df.apply(get_year, axis=1)"
   ]
  },
  {
   "cell_type": "code",
   "execution_count": 165,
   "id": "d7df64b7",
   "metadata": {},
   "outputs": [],
   "source": [
    "df['tendenz'] = df.apply(home_draw_away, axis=1)"
   ]
  },
  {
   "cell_type": "code",
   "execution_count": 166,
   "id": "6ebfd902",
   "metadata": {},
   "outputs": [],
   "source": [
    "df['tendenz_uwe'] = df.apply(home_draw_away_uwe, axis=1)"
   ]
  },
  {
   "cell_type": "code",
   "execution_count": 167,
   "id": "8dd6f7af",
   "metadata": {},
   "outputs": [],
   "source": [
    "df['tendenz_schadix'] = df.apply(home_draw_away_schadix, axis=1)"
   ]
  },
  {
   "cell_type": "code",
   "execution_count": 168,
   "id": "d92ff27c",
   "metadata": {},
   "outputs": [],
   "source": [
    "df['same_goal_uwe'] = df.apply(same_goal_difference_uwe, axis=1)"
   ]
  },
  {
   "cell_type": "code",
   "execution_count": 169,
   "id": "0df11984",
   "metadata": {},
   "outputs": [],
   "source": [
    "df['same_goal_schadix'] = df.apply(same_goal_difference_schadix, axis=1)"
   ]
  },
  {
   "cell_type": "code",
   "execution_count": 170,
   "id": "7a61ad45",
   "metadata": {},
   "outputs": [],
   "source": [
    "df['same_result_uwe'] = df.apply(same_result_uwe, axis=1)"
   ]
  },
  {
   "cell_type": "code",
   "execution_count": 171,
   "id": "2c5f1d80",
   "metadata": {},
   "outputs": [],
   "source": [
    "df['same_result_schadix'] = df.apply(same_result_schadix, axis=1)"
   ]
  },
  {
   "cell_type": "code",
   "execution_count": 172,
   "id": "98d48947",
   "metadata": {},
   "outputs": [],
   "source": [
    "df['result_match_uwe_schadix'] = df.apply(lambda row: match_result_generic(row['UHT'], row['UGT'], row['SHT'], row['SGT']), axis=1)"
   ]
  },
  {
   "cell_type": "code",
   "execution_count": 173,
   "id": "3388a59d",
   "metadata": {},
   "outputs": [],
   "source": [
    "df['points_uwe'] = df.apply(lambda row: calculate_points_generic(tendency=row['tendenz_uwe']==row['tendenz'],\n",
    "                                                                 same_goal_difference=row['same_goal_uwe'],\n",
    "                                                                 same_result=row['same_result_uwe']\n",
    "                                                                ), axis=1)"
   ]
  },
  {
   "cell_type": "code",
   "execution_count": 174,
   "id": "e96ce511",
   "metadata": {},
   "outputs": [],
   "source": [
    "df['points_schadix'] = df.apply(lambda row: calculate_points_generic(tendency=row['tendenz_schadix']==row['tendenz'],\n",
    "                                                                 same_goal_difference=row['same_goal_schadix'],\n",
    "                                                                 same_result=row['same_result_schadix']\n",
    "                                                                ), axis=1)"
   ]
  },
  {
   "cell_type": "code",
   "execution_count": 224,
   "id": "a6d7d9b1",
   "metadata": {},
   "outputs": [],
   "source": [
    "def create_result_string(home_goals, guest_goals):\n",
    "    if pd.isnull(home_goals) or pd.isnull(guest_goals):\n",
    "        return np.nan\n",
    "    else:\n",
    "        return str(int(home_goals))+\":\"+str(int(guest_goals))\n",
    "    "
   ]
  },
  {
   "cell_type": "code",
   "execution_count": 225,
   "id": "15a32074",
   "metadata": {},
   "outputs": [],
   "source": [
    "df['result_string']=df.apply(lambda row:str(int(row['Htore']))+\":\"+str(int(row['Gtore'])), axis=1)"
   ]
  },
  {
   "cell_type": "code",
   "execution_count": 229,
   "id": "9c5a1fff",
   "metadata": {},
   "outputs": [],
   "source": [
    "df['result_string_uwe']=df.apply(lambda row: create_result_string(row['UHT'], row['UGT']), axis=1)"
   ]
  },
  {
   "cell_type": "code",
   "execution_count": 230,
   "id": "d05d886b",
   "metadata": {},
   "outputs": [],
   "source": [
    "df['result_string_schadix']=df.apply(lambda row: create_result_string(row['SHT'], row['SGT']), axis=1)"
   ]
  },
  {
   "cell_type": "code",
   "execution_count": 231,
   "id": "22b62fab",
   "metadata": {},
   "outputs": [
    {
     "data": {
      "text/html": [
       "<div>\n",
       "<style scoped>\n",
       "    .dataframe tbody tr th:only-of-type {\n",
       "        vertical-align: middle;\n",
       "    }\n",
       "\n",
       "    .dataframe tbody tr th {\n",
       "        vertical-align: top;\n",
       "    }\n",
       "\n",
       "    .dataframe thead th {\n",
       "        text-align: right;\n",
       "    }\n",
       "</style>\n",
       "<table border=\"1\" class=\"dataframe\">\n",
       "  <thead>\n",
       "    <tr style=\"text-align: right;\">\n",
       "      <th></th>\n",
       "      <th>Heim</th>\n",
       "      <th>Gast</th>\n",
       "      <th>Htore</th>\n",
       "      <th>Gtore</th>\n",
       "      <th>UHT</th>\n",
       "      <th>UGT</th>\n",
       "      <th>SHT</th>\n",
       "      <th>SGT</th>\n",
       "      <th>Spieltag</th>\n",
       "      <th>Saison</th>\n",
       "      <th>...</th>\n",
       "      <th>same_goal_schadix</th>\n",
       "      <th>same_result_uwe</th>\n",
       "      <th>same_result_schadix</th>\n",
       "      <th>result_match_uwe_schadix</th>\n",
       "      <th>points_uwe</th>\n",
       "      <th>points_schadix</th>\n",
       "      <th>result_string</th>\n",
       "      <th>same_tendenz</th>\n",
       "      <th>result_string_uwe</th>\n",
       "      <th>result_string_schadix</th>\n",
       "    </tr>\n",
       "  </thead>\n",
       "  <tbody>\n",
       "    <tr>\n",
       "      <th>0</th>\n",
       "      <td>SC Freiburg</td>\n",
       "      <td>Borussia Mönchengladbach</td>\n",
       "      <td>0.0</td>\n",
       "      <td>0.0</td>\n",
       "      <td>1.0</td>\n",
       "      <td>2.0</td>\n",
       "      <td>1.0</td>\n",
       "      <td>0.0</td>\n",
       "      <td>18</td>\n",
       "      <td>95/96</td>\n",
       "      <td>...</td>\n",
       "      <td>False</td>\n",
       "      <td>False</td>\n",
       "      <td>False</td>\n",
       "      <td>False</td>\n",
       "      <td>0</td>\n",
       "      <td>0</td>\n",
       "      <td>0:0</td>\n",
       "      <td>False</td>\n",
       "      <td>1:2</td>\n",
       "      <td>1:0</td>\n",
       "    </tr>\n",
       "    <tr>\n",
       "      <th>1</th>\n",
       "      <td>1. FC Kaiserslautern</td>\n",
       "      <td>Borussia Dortmund</td>\n",
       "      <td>1.0</td>\n",
       "      <td>1.0</td>\n",
       "      <td>0.0</td>\n",
       "      <td>4.0</td>\n",
       "      <td>0.0</td>\n",
       "      <td>1.0</td>\n",
       "      <td>18</td>\n",
       "      <td>95/96</td>\n",
       "      <td>...</td>\n",
       "      <td>False</td>\n",
       "      <td>False</td>\n",
       "      <td>False</td>\n",
       "      <td>False</td>\n",
       "      <td>0</td>\n",
       "      <td>0</td>\n",
       "      <td>1:1</td>\n",
       "      <td>True</td>\n",
       "      <td>0:4</td>\n",
       "      <td>0:1</td>\n",
       "    </tr>\n",
       "    <tr>\n",
       "      <th>2</th>\n",
       "      <td>TSV 1860 München</td>\n",
       "      <td>FC St. Pauli</td>\n",
       "      <td>2.0</td>\n",
       "      <td>0.0</td>\n",
       "      <td>2.0</td>\n",
       "      <td>1.0</td>\n",
       "      <td>2.0</td>\n",
       "      <td>1.0</td>\n",
       "      <td>18</td>\n",
       "      <td>95/96</td>\n",
       "      <td>...</td>\n",
       "      <td>False</td>\n",
       "      <td>False</td>\n",
       "      <td>False</td>\n",
       "      <td>True</td>\n",
       "      <td>2</td>\n",
       "      <td>2</td>\n",
       "      <td>2:0</td>\n",
       "      <td>True</td>\n",
       "      <td>2:1</td>\n",
       "      <td>2:1</td>\n",
       "    </tr>\n",
       "    <tr>\n",
       "      <th>3</th>\n",
       "      <td>Karlsruher SC</td>\n",
       "      <td>Eintracht Frankfurt</td>\n",
       "      <td>1.0</td>\n",
       "      <td>1.0</td>\n",
       "      <td>2.0</td>\n",
       "      <td>0.0</td>\n",
       "      <td>0.0</td>\n",
       "      <td>2.0</td>\n",
       "      <td>18</td>\n",
       "      <td>95/96</td>\n",
       "      <td>...</td>\n",
       "      <td>False</td>\n",
       "      <td>False</td>\n",
       "      <td>False</td>\n",
       "      <td>False</td>\n",
       "      <td>0</td>\n",
       "      <td>0</td>\n",
       "      <td>1:1</td>\n",
       "      <td>False</td>\n",
       "      <td>2:0</td>\n",
       "      <td>0:2</td>\n",
       "    </tr>\n",
       "    <tr>\n",
       "      <th>4</th>\n",
       "      <td>Hamburger SV</td>\n",
       "      <td>Bayern München</td>\n",
       "      <td>2.0</td>\n",
       "      <td>1.0</td>\n",
       "      <td>1.0</td>\n",
       "      <td>3.0</td>\n",
       "      <td>1.0</td>\n",
       "      <td>2.0</td>\n",
       "      <td>18</td>\n",
       "      <td>95/96</td>\n",
       "      <td>...</td>\n",
       "      <td>False</td>\n",
       "      <td>False</td>\n",
       "      <td>False</td>\n",
       "      <td>False</td>\n",
       "      <td>0</td>\n",
       "      <td>0</td>\n",
       "      <td>2:1</td>\n",
       "      <td>True</td>\n",
       "      <td>1:3</td>\n",
       "      <td>1:2</td>\n",
       "    </tr>\n",
       "    <tr>\n",
       "      <th>...</th>\n",
       "      <td>...</td>\n",
       "      <td>...</td>\n",
       "      <td>...</td>\n",
       "      <td>...</td>\n",
       "      <td>...</td>\n",
       "      <td>...</td>\n",
       "      <td>...</td>\n",
       "      <td>...</td>\n",
       "      <td>...</td>\n",
       "      <td>...</td>\n",
       "      <td>...</td>\n",
       "      <td>...</td>\n",
       "      <td>...</td>\n",
       "      <td>...</td>\n",
       "      <td>...</td>\n",
       "      <td>...</td>\n",
       "      <td>...</td>\n",
       "      <td>...</td>\n",
       "      <td>...</td>\n",
       "      <td>...</td>\n",
       "      <td>...</td>\n",
       "    </tr>\n",
       "    <tr>\n",
       "      <th>7888</th>\n",
       "      <td>Bayer 04 Leverkusen</td>\n",
       "      <td>VfL Wolfsburg</td>\n",
       "      <td>0.0</td>\n",
       "      <td>2.0</td>\n",
       "      <td>3.0</td>\n",
       "      <td>1.0</td>\n",
       "      <td>2.0</td>\n",
       "      <td>0.0</td>\n",
       "      <td>10</td>\n",
       "      <td>21/22</td>\n",
       "      <td>...</td>\n",
       "      <td>False</td>\n",
       "      <td>False</td>\n",
       "      <td>False</td>\n",
       "      <td>False</td>\n",
       "      <td>0</td>\n",
       "      <td>0</td>\n",
       "      <td>0:2</td>\n",
       "      <td>True</td>\n",
       "      <td>3:1</td>\n",
       "      <td>2:0</td>\n",
       "    </tr>\n",
       "    <tr>\n",
       "      <th>7889</th>\n",
       "      <td>Borussia Dortmund</td>\n",
       "      <td>1. FC Köln</td>\n",
       "      <td>2.0</td>\n",
       "      <td>0.0</td>\n",
       "      <td>3.0</td>\n",
       "      <td>1.0</td>\n",
       "      <td>3.0</td>\n",
       "      <td>1.0</td>\n",
       "      <td>10</td>\n",
       "      <td>21/22</td>\n",
       "      <td>...</td>\n",
       "      <td>True</td>\n",
       "      <td>False</td>\n",
       "      <td>False</td>\n",
       "      <td>True</td>\n",
       "      <td>3</td>\n",
       "      <td>3</td>\n",
       "      <td>2:0</td>\n",
       "      <td>True</td>\n",
       "      <td>3:1</td>\n",
       "      <td>3:1</td>\n",
       "    </tr>\n",
       "    <tr>\n",
       "      <th>7890</th>\n",
       "      <td>Eintracht Frankfurt</td>\n",
       "      <td>RB Leipzig</td>\n",
       "      <td>1.0</td>\n",
       "      <td>1.0</td>\n",
       "      <td>1.0</td>\n",
       "      <td>3.0</td>\n",
       "      <td>0.0</td>\n",
       "      <td>3.0</td>\n",
       "      <td>10</td>\n",
       "      <td>21/22</td>\n",
       "      <td>...</td>\n",
       "      <td>False</td>\n",
       "      <td>False</td>\n",
       "      <td>False</td>\n",
       "      <td>False</td>\n",
       "      <td>0</td>\n",
       "      <td>0</td>\n",
       "      <td>1:1</td>\n",
       "      <td>True</td>\n",
       "      <td>1:3</td>\n",
       "      <td>0:3</td>\n",
       "    </tr>\n",
       "    <tr>\n",
       "      <th>7891</th>\n",
       "      <td>FC Augsburg</td>\n",
       "      <td>VfB Stuttgart</td>\n",
       "      <td>4.0</td>\n",
       "      <td>1.0</td>\n",
       "      <td>2.0</td>\n",
       "      <td>1.0</td>\n",
       "      <td>1.0</td>\n",
       "      <td>1.0</td>\n",
       "      <td>10</td>\n",
       "      <td>21/22</td>\n",
       "      <td>...</td>\n",
       "      <td>False</td>\n",
       "      <td>False</td>\n",
       "      <td>False</td>\n",
       "      <td>False</td>\n",
       "      <td>2</td>\n",
       "      <td>0</td>\n",
       "      <td>4:1</td>\n",
       "      <td>False</td>\n",
       "      <td>2:1</td>\n",
       "      <td>1:1</td>\n",
       "    </tr>\n",
       "    <tr>\n",
       "      <th>7892</th>\n",
       "      <td>Bor. Mönchengladbach</td>\n",
       "      <td>VfL Bochum</td>\n",
       "      <td>2.0</td>\n",
       "      <td>1.0</td>\n",
       "      <td>2.0</td>\n",
       "      <td>0.0</td>\n",
       "      <td>2.0</td>\n",
       "      <td>1.0</td>\n",
       "      <td>10</td>\n",
       "      <td>21/22</td>\n",
       "      <td>...</td>\n",
       "      <td>True</td>\n",
       "      <td>False</td>\n",
       "      <td>True</td>\n",
       "      <td>False</td>\n",
       "      <td>2</td>\n",
       "      <td>4</td>\n",
       "      <td>2:1</td>\n",
       "      <td>True</td>\n",
       "      <td>2:0</td>\n",
       "      <td>2:1</td>\n",
       "    </tr>\n",
       "  </tbody>\n",
       "</table>\n",
       "<p>7893 rows × 30 columns</p>\n",
       "</div>"
      ],
      "text/plain": [
       "                      Heim                      Gast  Htore  Gtore  UHT  UGT  \\\n",
       "0              SC Freiburg  Borussia Mönchengladbach    0.0    0.0  1.0  2.0   \n",
       "1     1. FC Kaiserslautern         Borussia Dortmund    1.0    1.0  0.0  4.0   \n",
       "2         TSV 1860 München              FC St. Pauli    2.0    0.0  2.0  1.0   \n",
       "3            Karlsruher SC       Eintracht Frankfurt    1.0    1.0  2.0  0.0   \n",
       "4             Hamburger SV            Bayern München    2.0    1.0  1.0  3.0   \n",
       "...                    ...                       ...    ...    ...  ...  ...   \n",
       "7888   Bayer 04 Leverkusen             VfL Wolfsburg    0.0    2.0  3.0  1.0   \n",
       "7889     Borussia Dortmund                1. FC Köln    2.0    0.0  3.0  1.0   \n",
       "7890   Eintracht Frankfurt                RB Leipzig    1.0    1.0  1.0  3.0   \n",
       "7891           FC Augsburg             VfB Stuttgart    4.0    1.0  2.0  1.0   \n",
       "7892  Bor. Mönchengladbach                VfL Bochum    2.0    1.0  2.0  0.0   \n",
       "\n",
       "      SHT  SGT  Spieltag  Saison  ...  same_goal_schadix  same_result_uwe  \\\n",
       "0     1.0  0.0        18   95/96  ...              False            False   \n",
       "1     0.0  1.0        18   95/96  ...              False            False   \n",
       "2     2.0  1.0        18   95/96  ...              False            False   \n",
       "3     0.0  2.0        18   95/96  ...              False            False   \n",
       "4     1.0  2.0        18   95/96  ...              False            False   \n",
       "...   ...  ...       ...     ...  ...                ...              ...   \n",
       "7888  2.0  0.0        10   21/22  ...              False            False   \n",
       "7889  3.0  1.0        10   21/22  ...               True            False   \n",
       "7890  0.0  3.0        10   21/22  ...              False            False   \n",
       "7891  1.0  1.0        10   21/22  ...              False            False   \n",
       "7892  2.0  1.0        10   21/22  ...               True            False   \n",
       "\n",
       "      same_result_schadix  result_match_uwe_schadix  points_uwe  \\\n",
       "0                   False                     False           0   \n",
       "1                   False                     False           0   \n",
       "2                   False                      True           2   \n",
       "3                   False                     False           0   \n",
       "4                   False                     False           0   \n",
       "...                   ...                       ...         ...   \n",
       "7888                False                     False           0   \n",
       "7889                False                      True           3   \n",
       "7890                False                     False           0   \n",
       "7891                False                     False           2   \n",
       "7892                 True                     False           2   \n",
       "\n",
       "      points_schadix result_string same_tendenz result_string_uwe  \\\n",
       "0                  0           0:0        False               1:2   \n",
       "1                  0           1:1         True               0:4   \n",
       "2                  2           2:0         True               2:1   \n",
       "3                  0           1:1        False               2:0   \n",
       "4                  0           2:1         True               1:3   \n",
       "...              ...           ...          ...               ...   \n",
       "7888               0           0:2         True               3:1   \n",
       "7889               3           2:0         True               3:1   \n",
       "7890               0           1:1         True               1:3   \n",
       "7891               0           4:1        False               2:1   \n",
       "7892               4           2:1         True               2:0   \n",
       "\n",
       "      result_string_schadix  \n",
       "0                       1:0  \n",
       "1                       0:1  \n",
       "2                       2:1  \n",
       "3                       0:2  \n",
       "4                       1:2  \n",
       "...                     ...  \n",
       "7888                    2:0  \n",
       "7889                    3:1  \n",
       "7890                    0:3  \n",
       "7891                    1:1  \n",
       "7892                    2:1  \n",
       "\n",
       "[7893 rows x 30 columns]"
      ]
     },
     "execution_count": 231,
     "metadata": {},
     "output_type": "execute_result"
    }
   ],
   "source": [
    "df"
   ]
  },
  {
   "cell_type": "code",
   "execution_count": 177,
   "id": "bca78d4c",
   "metadata": {},
   "outputs": [
    {
     "data": {
      "text/html": [
       "<div>\n",
       "<style scoped>\n",
       "    .dataframe tbody tr th:only-of-type {\n",
       "        vertical-align: middle;\n",
       "    }\n",
       "\n",
       "    .dataframe tbody tr th {\n",
       "        vertical-align: top;\n",
       "    }\n",
       "\n",
       "    .dataframe thead th {\n",
       "        text-align: right;\n",
       "    }\n",
       "</style>\n",
       "<table border=\"1\" class=\"dataframe\">\n",
       "  <thead>\n",
       "    <tr style=\"text-align: right;\">\n",
       "      <th></th>\n",
       "      <th>Heim</th>\n",
       "      <th>Gast</th>\n",
       "      <th>Htore</th>\n",
       "      <th>Gtore</th>\n",
       "      <th>UHT</th>\n",
       "      <th>UGT</th>\n",
       "      <th>SHT</th>\n",
       "      <th>SGT</th>\n",
       "      <th>Spieltag</th>\n",
       "      <th>Saison</th>\n",
       "      <th>...</th>\n",
       "      <th>tendenz_uwe</th>\n",
       "      <th>tendenz_schadix</th>\n",
       "      <th>same_goal_uwe</th>\n",
       "      <th>same_goal_schadix</th>\n",
       "      <th>same_result_uwe</th>\n",
       "      <th>same_result_schadix</th>\n",
       "      <th>result_match_uwe_schadix</th>\n",
       "      <th>points_uwe</th>\n",
       "      <th>points_schadix</th>\n",
       "      <th>result_string</th>\n",
       "    </tr>\n",
       "  </thead>\n",
       "  <tbody>\n",
       "    <tr>\n",
       "      <th>1620</th>\n",
       "      <td>Energie Cottbus</td>\n",
       "      <td>Vfl Wolfsburg</td>\n",
       "      <td>0.0</td>\n",
       "      <td>0.0</td>\n",
       "      <td>3.0</td>\n",
       "      <td>1.0</td>\n",
       "      <td>NaN</td>\n",
       "      <td>NaN</td>\n",
       "      <td>28</td>\n",
       "      <td>00/01</td>\n",
       "      <td>...</td>\n",
       "      <td>H</td>\n",
       "      <td>NaN</td>\n",
       "      <td>False</td>\n",
       "      <td>False</td>\n",
       "      <td>False</td>\n",
       "      <td>False</td>\n",
       "      <td>False</td>\n",
       "      <td>0</td>\n",
       "      <td>0</td>\n",
       "      <td>0:0</td>\n",
       "    </tr>\n",
       "    <tr>\n",
       "      <th>1621</th>\n",
       "      <td>Eintracht Frankfurt</td>\n",
       "      <td>Bayer Leverkusen</td>\n",
       "      <td>1.0</td>\n",
       "      <td>3.0</td>\n",
       "      <td>0.0</td>\n",
       "      <td>3.0</td>\n",
       "      <td>NaN</td>\n",
       "      <td>NaN</td>\n",
       "      <td>28</td>\n",
       "      <td>00/01</td>\n",
       "      <td>...</td>\n",
       "      <td>A</td>\n",
       "      <td>NaN</td>\n",
       "      <td>False</td>\n",
       "      <td>False</td>\n",
       "      <td>False</td>\n",
       "      <td>False</td>\n",
       "      <td>False</td>\n",
       "      <td>2</td>\n",
       "      <td>0</td>\n",
       "      <td>1:3</td>\n",
       "    </tr>\n",
       "    <tr>\n",
       "      <th>1622</th>\n",
       "      <td>1. FC Köln</td>\n",
       "      <td>SpVgg Unterhaching</td>\n",
       "      <td>1.0</td>\n",
       "      <td>1.0</td>\n",
       "      <td>4.0</td>\n",
       "      <td>1.0</td>\n",
       "      <td>NaN</td>\n",
       "      <td>NaN</td>\n",
       "      <td>28</td>\n",
       "      <td>00/01</td>\n",
       "      <td>...</td>\n",
       "      <td>H</td>\n",
       "      <td>NaN</td>\n",
       "      <td>False</td>\n",
       "      <td>False</td>\n",
       "      <td>False</td>\n",
       "      <td>False</td>\n",
       "      <td>False</td>\n",
       "      <td>0</td>\n",
       "      <td>0</td>\n",
       "      <td>1:1</td>\n",
       "    </tr>\n",
       "    <tr>\n",
       "      <th>1623</th>\n",
       "      <td>1860 München</td>\n",
       "      <td>Vfl Bochum</td>\n",
       "      <td>2.0</td>\n",
       "      <td>4.0</td>\n",
       "      <td>3.0</td>\n",
       "      <td>0.0</td>\n",
       "      <td>NaN</td>\n",
       "      <td>NaN</td>\n",
       "      <td>28</td>\n",
       "      <td>00/01</td>\n",
       "      <td>...</td>\n",
       "      <td>H</td>\n",
       "      <td>NaN</td>\n",
       "      <td>False</td>\n",
       "      <td>False</td>\n",
       "      <td>False</td>\n",
       "      <td>False</td>\n",
       "      <td>False</td>\n",
       "      <td>0</td>\n",
       "      <td>0</td>\n",
       "      <td>2:4</td>\n",
       "    </tr>\n",
       "    <tr>\n",
       "      <th>1624</th>\n",
       "      <td>Werder Bremen</td>\n",
       "      <td>Hertha BSC Berlin</td>\n",
       "      <td>3.0</td>\n",
       "      <td>1.0</td>\n",
       "      <td>2.0</td>\n",
       "      <td>0.0</td>\n",
       "      <td>NaN</td>\n",
       "      <td>NaN</td>\n",
       "      <td>28</td>\n",
       "      <td>00/01</td>\n",
       "      <td>...</td>\n",
       "      <td>H</td>\n",
       "      <td>NaN</td>\n",
       "      <td>True</td>\n",
       "      <td>False</td>\n",
       "      <td>False</td>\n",
       "      <td>False</td>\n",
       "      <td>False</td>\n",
       "      <td>3</td>\n",
       "      <td>0</td>\n",
       "      <td>3:1</td>\n",
       "    </tr>\n",
       "    <tr>\n",
       "      <th>...</th>\n",
       "      <td>...</td>\n",
       "      <td>...</td>\n",
       "      <td>...</td>\n",
       "      <td>...</td>\n",
       "      <td>...</td>\n",
       "      <td>...</td>\n",
       "      <td>...</td>\n",
       "      <td>...</td>\n",
       "      <td>...</td>\n",
       "      <td>...</td>\n",
       "      <td>...</td>\n",
       "      <td>...</td>\n",
       "      <td>...</td>\n",
       "      <td>...</td>\n",
       "      <td>...</td>\n",
       "      <td>...</td>\n",
       "      <td>...</td>\n",
       "      <td>...</td>\n",
       "      <td>...</td>\n",
       "      <td>...</td>\n",
       "      <td>...</td>\n",
       "    </tr>\n",
       "    <tr>\n",
       "      <th>7722</th>\n",
       "      <td>Arminia Bielefeld</td>\n",
       "      <td>RB Leipzig</td>\n",
       "      <td>0.0</td>\n",
       "      <td>1.0</td>\n",
       "      <td>0.0</td>\n",
       "      <td>NaN</td>\n",
       "      <td>NaN</td>\n",
       "      <td>2.0</td>\n",
       "      <td>26</td>\n",
       "      <td>20/21</td>\n",
       "      <td>...</td>\n",
       "      <td>NaN</td>\n",
       "      <td>NaN</td>\n",
       "      <td>False</td>\n",
       "      <td>False</td>\n",
       "      <td>False</td>\n",
       "      <td>False</td>\n",
       "      <td>False</td>\n",
       "      <td>0</td>\n",
       "      <td>0</td>\n",
       "      <td>0:1</td>\n",
       "    </tr>\n",
       "    <tr>\n",
       "      <th>7758</th>\n",
       "      <td>1. FC Köln</td>\n",
       "      <td>RB Leipzig</td>\n",
       "      <td>2.0</td>\n",
       "      <td>1.0</td>\n",
       "      <td>1.0</td>\n",
       "      <td>3.0</td>\n",
       "      <td>NaN</td>\n",
       "      <td>NaN</td>\n",
       "      <td>30</td>\n",
       "      <td>20/21</td>\n",
       "      <td>...</td>\n",
       "      <td>A</td>\n",
       "      <td>NaN</td>\n",
       "      <td>False</td>\n",
       "      <td>False</td>\n",
       "      <td>False</td>\n",
       "      <td>False</td>\n",
       "      <td>False</td>\n",
       "      <td>0</td>\n",
       "      <td>0</td>\n",
       "      <td>2:1</td>\n",
       "    </tr>\n",
       "    <tr>\n",
       "      <th>7759</th>\n",
       "      <td>FC Bayern München</td>\n",
       "      <td>Bayer 04 Leverkusen</td>\n",
       "      <td>2.0</td>\n",
       "      <td>0.0</td>\n",
       "      <td>3.0</td>\n",
       "      <td>1.0</td>\n",
       "      <td>NaN</td>\n",
       "      <td>NaN</td>\n",
       "      <td>30</td>\n",
       "      <td>20/21</td>\n",
       "      <td>...</td>\n",
       "      <td>H</td>\n",
       "      <td>NaN</td>\n",
       "      <td>True</td>\n",
       "      <td>False</td>\n",
       "      <td>False</td>\n",
       "      <td>False</td>\n",
       "      <td>False</td>\n",
       "      <td>3</td>\n",
       "      <td>0</td>\n",
       "      <td>2:0</td>\n",
       "    </tr>\n",
       "    <tr>\n",
       "      <th>7760</th>\n",
       "      <td>Eintracht Frankfurt</td>\n",
       "      <td>FC Augsburg</td>\n",
       "      <td>2.0</td>\n",
       "      <td>0.0</td>\n",
       "      <td>2.0</td>\n",
       "      <td>1.0</td>\n",
       "      <td>NaN</td>\n",
       "      <td>NaN</td>\n",
       "      <td>30</td>\n",
       "      <td>20/21</td>\n",
       "      <td>...</td>\n",
       "      <td>H</td>\n",
       "      <td>NaN</td>\n",
       "      <td>False</td>\n",
       "      <td>False</td>\n",
       "      <td>False</td>\n",
       "      <td>False</td>\n",
       "      <td>False</td>\n",
       "      <td>2</td>\n",
       "      <td>0</td>\n",
       "      <td>2:0</td>\n",
       "    </tr>\n",
       "    <tr>\n",
       "      <th>7761</th>\n",
       "      <td>Arminia Bielefeld</td>\n",
       "      <td>FC Schalke 04</td>\n",
       "      <td>1.0</td>\n",
       "      <td>0.0</td>\n",
       "      <td>3.0</td>\n",
       "      <td>1.0</td>\n",
       "      <td>NaN</td>\n",
       "      <td>NaN</td>\n",
       "      <td>30</td>\n",
       "      <td>20/21</td>\n",
       "      <td>...</td>\n",
       "      <td>H</td>\n",
       "      <td>NaN</td>\n",
       "      <td>False</td>\n",
       "      <td>False</td>\n",
       "      <td>False</td>\n",
       "      <td>False</td>\n",
       "      <td>False</td>\n",
       "      <td>2</td>\n",
       "      <td>0</td>\n",
       "      <td>1:0</td>\n",
       "    </tr>\n",
       "  </tbody>\n",
       "</table>\n",
       "<p>190 rows × 27 columns</p>\n",
       "</div>"
      ],
      "text/plain": [
       "                      Heim                 Gast  Htore  Gtore  UHT  UGT  SHT  \\\n",
       "1620       Energie Cottbus       Vfl Wolfsburg     0.0    0.0  3.0  1.0  NaN   \n",
       "1621   Eintracht Frankfurt    Bayer Leverkusen     1.0    3.0  0.0  3.0  NaN   \n",
       "1622            1. FC Köln  SpVgg Unterhaching     1.0    1.0  4.0  1.0  NaN   \n",
       "1623          1860 München          Vfl Bochum     2.0    4.0  3.0  0.0  NaN   \n",
       "1624         Werder Bremen   Hertha BSC Berlin     3.0    1.0  2.0  0.0  NaN   \n",
       "...                    ...                  ...    ...    ...  ...  ...  ...   \n",
       "7722     Arminia Bielefeld           RB Leipzig    0.0    1.0  0.0  NaN  NaN   \n",
       "7758            1. FC Köln           RB Leipzig    2.0    1.0  1.0  3.0  NaN   \n",
       "7759     FC Bayern München  Bayer 04 Leverkusen    2.0    0.0  3.0  1.0  NaN   \n",
       "7760   Eintracht Frankfurt          FC Augsburg    2.0    0.0  2.0  1.0  NaN   \n",
       "7761     Arminia Bielefeld        FC Schalke 04    1.0    0.0  3.0  1.0  NaN   \n",
       "\n",
       "      SGT  Spieltag  Saison  ...  tendenz_uwe  tendenz_schadix  same_goal_uwe  \\\n",
       "1620  NaN        28   00/01  ...            H              NaN          False   \n",
       "1621  NaN        28   00/01  ...            A              NaN          False   \n",
       "1622  NaN        28   00/01  ...            H              NaN          False   \n",
       "1623  NaN        28   00/01  ...            H              NaN          False   \n",
       "1624  NaN        28   00/01  ...            H              NaN           True   \n",
       "...   ...       ...     ...  ...          ...              ...            ...   \n",
       "7722  2.0        26   20/21  ...          NaN              NaN          False   \n",
       "7758  NaN        30   20/21  ...            A              NaN          False   \n",
       "7759  NaN        30   20/21  ...            H              NaN           True   \n",
       "7760  NaN        30   20/21  ...            H              NaN          False   \n",
       "7761  NaN        30   20/21  ...            H              NaN          False   \n",
       "\n",
       "      same_goal_schadix  same_result_uwe  same_result_schadix  \\\n",
       "1620              False            False                False   \n",
       "1621              False            False                False   \n",
       "1622              False            False                False   \n",
       "1623              False            False                False   \n",
       "1624              False            False                False   \n",
       "...                 ...              ...                  ...   \n",
       "7722              False            False                False   \n",
       "7758              False            False                False   \n",
       "7759              False            False                False   \n",
       "7760              False            False                False   \n",
       "7761              False            False                False   \n",
       "\n",
       "     result_match_uwe_schadix points_uwe points_schadix  result_string  \n",
       "1620                    False          0              0            0:0  \n",
       "1621                    False          2              0            1:3  \n",
       "1622                    False          0              0            1:1  \n",
       "1623                    False          0              0            2:4  \n",
       "1624                    False          3              0            3:1  \n",
       "...                       ...        ...            ...            ...  \n",
       "7722                    False          0              0            0:1  \n",
       "7758                    False          0              0            2:1  \n",
       "7759                    False          3              0            2:0  \n",
       "7760                    False          2              0            2:0  \n",
       "7761                    False          2              0            1:0  \n",
       "\n",
       "[190 rows x 27 columns]"
      ]
     },
     "execution_count": 177,
     "metadata": {},
     "output_type": "execute_result"
    }
   ],
   "source": [
    "df[df['SHT'].isna()]"
   ]
  },
  {
   "cell_type": "code",
   "execution_count": 178,
   "id": "3dbc4888",
   "metadata": {},
   "outputs": [],
   "source": [
    "df_points_sum = df.groupby('year').sum(['points_schadix', 'points_uwe'])[['points_schadix', 'points_uwe']]"
   ]
  },
  {
   "cell_type": "code",
   "execution_count": 179,
   "id": "8cb7ac8d",
   "metadata": {},
   "outputs": [
    {
     "data": {
      "text/html": [
       "<div>\n",
       "<style scoped>\n",
       "    .dataframe tbody tr th:only-of-type {\n",
       "        vertical-align: middle;\n",
       "    }\n",
       "\n",
       "    .dataframe tbody tr th {\n",
       "        vertical-align: top;\n",
       "    }\n",
       "\n",
       "    .dataframe thead th {\n",
       "        text-align: right;\n",
       "    }\n",
       "</style>\n",
       "<table border=\"1\" class=\"dataframe\">\n",
       "  <thead>\n",
       "    <tr style=\"text-align: right;\">\n",
       "      <th></th>\n",
       "      <th>points_schadix</th>\n",
       "      <th>points_uwe</th>\n",
       "    </tr>\n",
       "    <tr>\n",
       "      <th>year</th>\n",
       "      <th></th>\n",
       "      <th></th>\n",
       "    </tr>\n",
       "  </thead>\n",
       "  <tbody>\n",
       "    <tr>\n",
       "      <th>1995</th>\n",
       "      <td>131</td>\n",
       "      <td>142</td>\n",
       "    </tr>\n",
       "    <tr>\n",
       "      <th>1996</th>\n",
       "      <td>357</td>\n",
       "      <td>372</td>\n",
       "    </tr>\n",
       "    <tr>\n",
       "      <th>1997</th>\n",
       "      <td>322</td>\n",
       "      <td>356</td>\n",
       "    </tr>\n",
       "    <tr>\n",
       "      <th>1998</th>\n",
       "      <td>338</td>\n",
       "      <td>394</td>\n",
       "    </tr>\n",
       "    <tr>\n",
       "      <th>1999</th>\n",
       "      <td>375</td>\n",
       "      <td>372</td>\n",
       "    </tr>\n",
       "    <tr>\n",
       "      <th>2000</th>\n",
       "      <td>306</td>\n",
       "      <td>375</td>\n",
       "    </tr>\n",
       "    <tr>\n",
       "      <th>2001</th>\n",
       "      <td>340</td>\n",
       "      <td>389</td>\n",
       "    </tr>\n",
       "    <tr>\n",
       "      <th>2002</th>\n",
       "      <td>325</td>\n",
       "      <td>371</td>\n",
       "    </tr>\n",
       "    <tr>\n",
       "      <th>2003</th>\n",
       "      <td>422</td>\n",
       "      <td>365</td>\n",
       "    </tr>\n",
       "    <tr>\n",
       "      <th>2004</th>\n",
       "      <td>344</td>\n",
       "      <td>392</td>\n",
       "    </tr>\n",
       "    <tr>\n",
       "      <th>2005</th>\n",
       "      <td>328</td>\n",
       "      <td>340</td>\n",
       "    </tr>\n",
       "    <tr>\n",
       "      <th>2006</th>\n",
       "      <td>346</td>\n",
       "      <td>281</td>\n",
       "    </tr>\n",
       "    <tr>\n",
       "      <th>2007</th>\n",
       "      <td>277</td>\n",
       "      <td>352</td>\n",
       "    </tr>\n",
       "    <tr>\n",
       "      <th>2008</th>\n",
       "      <td>378</td>\n",
       "      <td>320</td>\n",
       "    </tr>\n",
       "    <tr>\n",
       "      <th>2009</th>\n",
       "      <td>417</td>\n",
       "      <td>341</td>\n",
       "    </tr>\n",
       "    <tr>\n",
       "      <th>2010</th>\n",
       "      <td>345</td>\n",
       "      <td>343</td>\n",
       "    </tr>\n",
       "    <tr>\n",
       "      <th>2011</th>\n",
       "      <td>386</td>\n",
       "      <td>353</td>\n",
       "    </tr>\n",
       "    <tr>\n",
       "      <th>2012</th>\n",
       "      <td>386</td>\n",
       "      <td>387</td>\n",
       "    </tr>\n",
       "    <tr>\n",
       "      <th>2013</th>\n",
       "      <td>415</td>\n",
       "      <td>334</td>\n",
       "    </tr>\n",
       "    <tr>\n",
       "      <th>2014</th>\n",
       "      <td>364</td>\n",
       "      <td>354</td>\n",
       "    </tr>\n",
       "    <tr>\n",
       "      <th>2015</th>\n",
       "      <td>360</td>\n",
       "      <td>393</td>\n",
       "    </tr>\n",
       "    <tr>\n",
       "      <th>2016</th>\n",
       "      <td>382</td>\n",
       "      <td>402</td>\n",
       "    </tr>\n",
       "    <tr>\n",
       "      <th>2017</th>\n",
       "      <td>339</td>\n",
       "      <td>370</td>\n",
       "    </tr>\n",
       "    <tr>\n",
       "      <th>2018</th>\n",
       "      <td>398</td>\n",
       "      <td>377</td>\n",
       "    </tr>\n",
       "    <tr>\n",
       "      <th>2019</th>\n",
       "      <td>397</td>\n",
       "      <td>386</td>\n",
       "    </tr>\n",
       "    <tr>\n",
       "      <th>2020</th>\n",
       "      <td>383</td>\n",
       "      <td>380</td>\n",
       "    </tr>\n",
       "    <tr>\n",
       "      <th>2021</th>\n",
       "      <td>118</td>\n",
       "      <td>118</td>\n",
       "    </tr>\n",
       "  </tbody>\n",
       "</table>\n",
       "</div>"
      ],
      "text/plain": [
       "      points_schadix  points_uwe\n",
       "year                            \n",
       "1995             131         142\n",
       "1996             357         372\n",
       "1997             322         356\n",
       "1998             338         394\n",
       "1999             375         372\n",
       "2000             306         375\n",
       "2001             340         389\n",
       "2002             325         371\n",
       "2003             422         365\n",
       "2004             344         392\n",
       "2005             328         340\n",
       "2006             346         281\n",
       "2007             277         352\n",
       "2008             378         320\n",
       "2009             417         341\n",
       "2010             345         343\n",
       "2011             386         353\n",
       "2012             386         387\n",
       "2013             415         334\n",
       "2014             364         354\n",
       "2015             360         393\n",
       "2016             382         402\n",
       "2017             339         370\n",
       "2018             398         377\n",
       "2019             397         386\n",
       "2020             383         380\n",
       "2021             118         118"
      ]
     },
     "execution_count": 179,
     "metadata": {},
     "output_type": "execute_result"
    }
   ],
   "source": [
    "df_points_sum"
   ]
  },
  {
   "cell_type": "markdown",
   "id": "fcd9b585",
   "metadata": {},
   "source": [
    "### Gesamtpunkte im Laufe der Zeit"
   ]
  },
  {
   "cell_type": "code",
   "execution_count": 181,
   "id": "2fbeabf1",
   "metadata": {},
   "outputs": [],
   "source": [
    "df_sum_points = df_points_sum.cumsum()"
   ]
  },
  {
   "cell_type": "code",
   "execution_count": 184,
   "id": "b2a6de12",
   "metadata": {},
   "outputs": [
    {
     "data": {
      "text/plain": [
       "<AxesSubplot:xlabel='year'>"
      ]
     },
     "execution_count": 184,
     "metadata": {},
     "output_type": "execute_result"
    },
    {
     "data": {
      "image/png": "[encoded data removed]",
      "text/plain": [
       "<Figure size 432x288 with 1 Axes>"
      ]
     },
     "metadata": {
      "needs_background": "light"
     },
     "output_type": "display_data"
    }
   ],
   "source": [
    "df_points_sum.cumsum().plot()"
   ]
  },
  {
   "cell_type": "markdown",
   "id": "3609f1d2",
   "metadata": {},
   "source": [
    "### Gesamtpunke-Abstand Uwe-Schadix"
   ]
  },
  {
   "cell_type": "code",
   "execution_count": 191,
   "id": "fcf9a369",
   "metadata": {},
   "outputs": [
    {
     "data": {
      "text/plain": [
       "<AxesSubplot:xlabel='year'>"
      ]
     },
     "execution_count": 191,
     "metadata": {},
     "output_type": "execute_result"
    },
    {
     "data": {
      "image/png": "[encoded data removed]",
      "text/plain": [
       "<Figure size 432x288 with 1 Axes>"
      ]
     },
     "metadata": {
      "needs_background": "light"
     },
     "output_type": "display_data"
    }
   ],
   "source": [
    "df_sum_points['point_difference'] = df_sum_points['points_uwe'] - df_sum_points['points_schadix']\n",
    "df_sum_points['point_difference'].plot()"
   ]
  },
  {
   "cell_type": "markdown",
   "id": "0a3434fc",
   "metadata": {},
   "source": [
    "### Wie haeufig gleiche Ergebnisse getippt im Laufe der Zeit"
   ]
  },
  {
   "cell_type": "code",
   "execution_count": 192,
   "id": "71202e21",
   "metadata": {},
   "outputs": [],
   "source": [
    "df_same_tipps_over_time = df.groupby('year').sum(['result_match_uwe_schadix'])[['result_match_uwe_schadix']][:-1]"
   ]
  },
  {
   "cell_type": "code",
   "execution_count": 193,
   "id": "145d3e12",
   "metadata": {},
   "outputs": [],
   "source": [
    "df_same_tipps_over_time['avg_10'] = df_same_tipps_over_time.result_match_uwe_schadix.rolling(10, min_periods=0).mean()"
   ]
  },
  {
   "cell_type": "code",
   "execution_count": 194,
   "id": "658432ce",
   "metadata": {},
   "outputs": [
    {
     "data": {
      "text/plain": [
       "<AxesSubplot:xlabel='year'>"
      ]
     },
     "execution_count": 194,
     "metadata": {},
     "output_type": "execute_result"
    },
    {
     "data": {
      "image/png": "[encoded data removed]",
      "text/plain": [
       "<Figure size 432x288 with 1 Axes>"
      ]
     },
     "metadata": {
      "needs_background": "light"
     },
     "output_type": "display_data"
    }
   ],
   "source": [
    "df_same_tipps_over_time['avg_10'].plot()"
   ]
  },
  {
   "cell_type": "code",
   "execution_count": 195,
   "id": "e04862b6",
   "metadata": {},
   "outputs": [],
   "source": [
    "df['same_tendenz'] = df.apply(lambda row: row['tendenz_uwe'] == row['tendenz_schadix'], axis=1)"
   ]
  },
  {
   "cell_type": "code",
   "execution_count": 196,
   "id": "760ccd1b",
   "metadata": {},
   "outputs": [],
   "source": [
    "df_same_tendenz = df.groupby('year').sum(['same_tendenz'])[['same_tendenz']][:-1]"
   ]
  },
  {
   "cell_type": "code",
   "execution_count": 197,
   "id": "b9d73cd7",
   "metadata": {},
   "outputs": [
    {
     "data": {
      "text/plain": [
       "<AxesSubplot:xlabel='year'>"
      ]
     },
     "execution_count": 197,
     "metadata": {},
     "output_type": "execute_result"
    },
    {
     "data": {
      "image/png": "[encoded data removed]",
      "text/plain": [
       "<Figure size 432x288 with 1 Axes>"
      ]
     },
     "metadata": {
      "needs_background": "light"
     },
     "output_type": "display_data"
    }
   ],
   "source": [
    "df_same_tendenz.plot()"
   ]
  },
  {
   "cell_type": "code",
   "execution_count": 198,
   "id": "06098c0a",
   "metadata": {},
   "outputs": [],
   "source": [
    "df_same_tendenz['avg_3'] = df_same_tendenz.same_tendenz.rolling(3, min_periods=0).mean()"
   ]
  },
  {
   "cell_type": "code",
   "execution_count": 199,
   "id": "541ab313",
   "metadata": {},
   "outputs": [],
   "source": [
    "df_same_tendenz['avg_5'] = df_same_tendenz.same_tendenz.rolling(5, min_periods=0).mean()"
   ]
  },
  {
   "cell_type": "code",
   "execution_count": 200,
   "id": "18adaec7",
   "metadata": {},
   "outputs": [
    {
     "data": {
      "text/plain": [
       "<AxesSubplot:xlabel='year'>"
      ]
     },
     "execution_count": 200,
     "metadata": {},
     "output_type": "execute_result"
    },
    {
     "data": {
      "image/png": "[encoded data removed]",
      "text/plain": [
       "<Figure size 432x288 with 1 Axes>"
      ]
     },
     "metadata": {
      "needs_background": "light"
     },
     "output_type": "display_data"
    }
   ],
   "source": [
    "df_same_tendenz['avg_5'].plot()"
   ]
  },
  {
   "cell_type": "markdown",
   "id": "858070fc",
   "metadata": {},
   "source": [
    "Probability of results"
   ]
  },
  {
   "cell_type": "code",
   "execution_count": 249,
   "id": "217ceb5e",
   "metadata": {},
   "outputs": [
    {
     "data": {
      "text/plain": [
       "0.06714810591663499"
      ]
     },
     "execution_count": 249,
     "metadata": {},
     "output_type": "execute_result"
    }
   ],
   "source": [
    "results_count = df.groupby('result_string')['result_string'].count().sort_values()\n",
    "results_sum = results_count.sum()\n",
    "df_results_count = pd.DataFrame(index=results_count.index, data=results_count.values, columns=['count'])\n",
    "# results_count['probability_result'] = results_count['']\n",
    "df_results_count['probability_result'] = df_results_count['count'] / results_sum\n",
    "float(df_results_count[df_results_count.index == '0:0']['probability_result'])"
   ]
  },
  {
   "cell_type": "code",
   "execution_count": 290,
   "id": "0301f306",
   "metadata": {},
   "outputs": [
    {
     "data": {
      "text/plain": [
       "0"
      ]
     },
     "execution_count": 290,
     "metadata": {},
     "output_type": "execute_result"
    }
   ],
   "source": [
    "a = df_results_count[df_results_count.index == '5:5']['probability_result']\n",
    "len(a)"
   ]
  },
  {
   "cell_type": "code",
   "execution_count": 297,
   "id": "8fdc11e5",
   "metadata": {},
   "outputs": [],
   "source": [
    "def get_probability_number(result_string):\n",
    "    # print(result_string)\n",
    "    if pd.isnull(result_string):\n",
    "        return np.nan\n",
    "    try:\n",
    "        prob = df_results_count[df_results_count.index == result_string]['probability_result']\n",
    "        if len(prob) == 0:\n",
    "            return 1\n",
    "        return 1 - float(prob)\n",
    "    except KeyError as ke:\n",
    "        return np.nan\n"
   ]
  },
  {
   "cell_type": "code",
   "execution_count": 298,
   "id": "6281e61e",
   "metadata": {},
   "outputs": [],
   "source": [
    "df['probability_count_uwe'] = df.apply(lambda row:get_probability_number(row['result_string_uwe']), axis=1)"
   ]
  },
  {
   "cell_type": "code",
   "execution_count": 299,
   "id": "58b40942",
   "metadata": {},
   "outputs": [],
   "source": [
    "df['probability_count_schadix'] = df.apply(lambda row:get_probability_number(row['result_string_schadix']), axis=1)"
   ]
  },
  {
   "cell_type": "code",
   "execution_count": 301,
   "id": "8cef897b",
   "metadata": {},
   "outputs": [
    {
     "name": "stdout",
     "output_type": "stream",
     "text": [
      "Uwe: 7331.625364246801\n",
      "Schadix: 7169.23223109084\n"
     ]
    }
   ],
   "source": [
    "print(f\"Uwe: {df['probability_count_uwe'].sum()}\")\n",
    "print(f\"Schadix: {df['probability_count_schadix'].sum()}\")"
   ]
  },
  {
   "cell_type": "markdown",
   "id": "cc7f2cd0",
   "metadata": {},
   "source": [
    "Probability of results with tips combined"
   ]
  },
  {
   "cell_type": "markdown",
   "id": "a7611fd5",
   "metadata": {},
   "source": [
    "max points spieltag"
   ]
  },
  {
   "cell_type": "markdown",
   "id": "79c243fc",
   "metadata": {},
   "source": [
    "spieltag lost even most correct tendencies"
   ]
  },
  {
   "cell_type": "markdown",
   "id": "0df52b32",
   "metadata": {},
   "source": [
    "Wie haeufig vergessen zu tippen (gesamt und ueber zeit)"
   ]
  },
  {
   "cell_type": "code",
   "execution_count": null,
   "id": "51a76f38",
   "metadata": {},
   "outputs": [],
   "source": []
  }
 ],
 "metadata": {
  "kernelspec": {
   "display_name": "Python 3 (ipykernel)",
   "language": "python",
   "name": "python3"
  },
  "language_info": {
   "codemirror_mode": {
    "name": "ipython",
    "version": 3
   },
   "file_extension": ".py",
   "mimetype": "text/x-python",
   "name": "python",
   "nbconvert_exporter": "python",
   "pygments_lexer": "ipython3",
   "version": "3.9.6"
  }
 },
 "nbformat": 4,
 "nbformat_minor": 5
}
