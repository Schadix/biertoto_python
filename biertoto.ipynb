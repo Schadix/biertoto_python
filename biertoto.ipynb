{
 "cells": [
  {
   "cell_type": "code",
   "execution_count": 1,
   "id": "491539e5",
   "metadata": {},
   "outputs": [],
   "source": [
    "!python -m pip -q install pandas openpyxl matplotlib"
   ]
  },
  {
   "cell_type": "code",
   "execution_count": 2,
   "id": "8e2dfa00",
   "metadata": {},
   "outputs": [],
   "source": [
    "import pandas as pd\n",
    "import numpy as np"
   ]
  },
  {
   "cell_type": "markdown",
   "id": "a7b21b81",
   "metadata": {},
   "source": [
    "Laden der Excel"
   ]
  },
  {
   "cell_type": "code",
   "execution_count": 3,
   "id": "256246f4",
   "metadata": {},
   "outputs": [],
   "source": [
    "df = pd.read_excel(\"data/Biertoto.xlsx\")"
   ]
  },
  {
   "cell_type": "markdown",
   "id": "1f941e06",
   "metadata": {},
   "source": [
    "alles was im 'Heim' einen leeren String oder keinen Wert hat, entfernen"
   ]
  },
  {
   "cell_type": "code",
   "execution_count": 4,
   "id": "1e07ad9e",
   "metadata": {},
   "outputs": [],
   "source": [
    "df = df.dropna(subset=['Heim']).copy()"
   ]
  },
  {
   "cell_type": "markdown",
   "id": "9563b4c5",
   "metadata": {},
   "source": [
    "Function um spaeter zu speichern ob ein Ergebnis Heimsieg, Auswaertssieg oder Untentschieden ist"
   ]
  },
  {
   "cell_type": "code",
   "execution_count": 5,
   "id": "4c34391a",
   "metadata": {},
   "outputs": [],
   "source": [
    "def home_draw_away_generic(home_goals, away_goals)->str:\n",
    "    \"\"\"\n",
    "    A = away team won\n",
    "    H = home team won\n",
    "    D = draw\n",
    "    \"\"\"\n",
    "    diff = home_goals - away_goals\n",
    "    if pd.isnull(home_goals) or pd.isnull(away_goals):\n",
    "        return np.nan\n",
    "    if diff < 0:\n",
    "        return 'A'\n",
    "    elif diff > 0:\n",
    "        return 'H'\n",
    "    else:\n",
    "        return 'D'\n"
   ]
  },
  {
   "cell_type": "markdown",
   "id": "82272bbd",
   "metadata": {},
   "source": [
    "Fuer das Spielergebnis berechnen od Heim- oder Auswaertssieg oder Untenschieden"
   ]
  },
  {
   "cell_type": "code",
   "execution_count": 6,
   "id": "e2c2ecca",
   "metadata": {},
   "outputs": [],
   "source": [
    "def home_draw_away(row):\n",
    "    return home_draw_away_generic(row['Htore'], row['Gtore'])\n",
    "    "
   ]
  },
  {
   "cell_type": "markdown",
   "id": "ac5a9408",
   "metadata": {},
   "source": [
    "Fuer das Uwe-Tipp berechnen od Heim- oder Auswaertssieg oder Untenschieden"
   ]
  },
  {
   "cell_type": "code",
   "execution_count": 7,
   "id": "3821c521",
   "metadata": {},
   "outputs": [],
   "source": [
    "def home_draw_away_uwe(row):\n",
    "    return home_draw_away_generic(row['UHT'], row['UGT'])"
   ]
  },
  {
   "cell_type": "markdown",
   "id": "4c628243",
   "metadata": {},
   "source": [
    "Fuer das Schadix-Tipp berechnen od Heim- oder Auswaertssieg oder Untenschieden"
   ]
  },
  {
   "cell_type": "code",
   "execution_count": 8,
   "id": "f38293a9",
   "metadata": {},
   "outputs": [],
   "source": [
    "def home_draw_away_schadix(row):\n",
    "    return home_draw_away_generic(row['SHT'], row['SGT'])"
   ]
  },
  {
   "cell_type": "markdown",
   "id": "a6303dc4",
   "metadata": {},
   "source": [
    "Funktion um zu checken ob 2 Ergebnisse identisch sind"
   ]
  },
  {
   "cell_type": "code",
   "execution_count": 9,
   "id": "6d03fa6e",
   "metadata": {},
   "outputs": [],
   "source": [
    "def match_result_generic(home_goals_1, away_goals_1, home_goals_2, away_goals_2)->bool:\n",
    "    if pd.isnull(home_goals_1) or pd.isnull(away_goals_1) or pd.isnull(home_goals_2) or pd.isnull(away_goals_2):\n",
    "        return False\n",
    "    try:\n",
    "        return int(home_goals_1) == int(home_goals_2) and int(away_goals_1) == int(away_goals_2)\n",
    "    except ValueError:\n",
    "        return False\n",
    "\n",
    "    "
   ]
  },
  {
   "cell_type": "markdown",
   "id": "5969b050",
   "metadata": {},
   "source": [
    "Funktion um zu checken ob 2 Ergebnisse die gleiche Tordifferenz haben"
   ]
  },
  {
   "cell_type": "code",
   "execution_count": 10,
   "id": "3630c120",
   "metadata": {},
   "outputs": [],
   "source": [
    "def same_goal_difference(home_goals_1, away_goals_1, home_goals_2, away_goals_2)->bool:\n",
    "    if pd.isnull(home_goals_1) or pd.isnull(away_goals_1) or pd.isnull(home_goals_2) or pd.isnull(away_goals_2):\n",
    "        return False\n",
    "    try:\n",
    "        return int(home_goals_1) - int(away_goals_1) == int(home_goals_2) - int(away_goals_2)\n",
    "    except ValueError:\n",
    "        return False\n",
    "\n",
    "    "
   ]
  },
  {
   "cell_type": "markdown",
   "id": "44aae8dc",
   "metadata": {},
   "source": [
    "Funktion checkt ob Uwe die gleiche Tordifferenz hat wie das Spielergebnis"
   ]
  },
  {
   "cell_type": "code",
   "execution_count": 11,
   "id": "759a66a3",
   "metadata": {},
   "outputs": [],
   "source": [
    "def same_goal_difference_uwe(row)->bool:\n",
    "    return same_goal_difference(home_goals_1=row['UHT'], \n",
    "                                  away_goals_1=row['UGT'], \n",
    "                                  home_goals_2=row['Htore'], \n",
    "                                  away_goals_2=row['Gtore'])"
   ]
  },
  {
   "cell_type": "markdown",
   "id": "a306b475",
   "metadata": {},
   "source": [
    "Funktion checkt ob Schadix die gleiche Tordifferenz hat wie das Spielergebnis"
   ]
  },
  {
   "cell_type": "code",
   "execution_count": 12,
   "id": "e98e7820",
   "metadata": {},
   "outputs": [],
   "source": [
    "def same_goal_difference_schadix(row)->bool:\n",
    "    return same_goal_difference(home_goals_1=row['SHT'], \n",
    "                                  away_goals_1=row['SGT'],\n",
    "                                  home_goals_2=row['Htore'], \n",
    "                                  away_goals_2=row['Gtore'])"
   ]
  },
  {
   "cell_type": "markdown",
   "id": "18f77fb6",
   "metadata": {},
   "source": [
    "Funktion checkt ob Uwe das gleiche Ergebnis getippt hat wie das Spielergebnis"
   ]
  },
  {
   "cell_type": "code",
   "execution_count": 13,
   "id": "2f9df07a",
   "metadata": {},
   "outputs": [],
   "source": [
    "def same_result_uwe(row)->bool:\n",
    "    return match_result_generic(home_goals_1=row['UHT'], \n",
    "                                  away_goals_1=row['UGT'], \n",
    "                                  home_goals_2=row['Htore'], \n",
    "                                  away_goals_2=row['Gtore'])"
   ]
  },
  {
   "cell_type": "markdown",
   "id": "1210b7bd",
   "metadata": {},
   "source": [
    "Funktion checkt ob Schadix das gleiche Ergebnis getippt hat wie das Spielergebnis"
   ]
  },
  {
   "cell_type": "code",
   "execution_count": 14,
   "id": "6372c2d7",
   "metadata": {},
   "outputs": [],
   "source": [
    "def same_result_schadix(row)->bool:\n",
    "    return match_result_generic(home_goals_1=row['SHT'], \n",
    "                                  away_goals_1=row['SGT'], \n",
    "                                  home_goals_2=row['Htore'], \n",
    "                                  away_goals_2=row['Gtore'])"
   ]
  },
  {
   "cell_type": "markdown",
   "id": "e92247b5",
   "metadata": {},
   "source": [
    "Fuer die Berechnungen und vor allem die Sortierung der Ergebnisse ist es einfacher wenn die Jahrezahlen komplett sind, also basteln wir das mal"
   ]
  },
  {
   "cell_type": "code",
   "execution_count": 15,
   "id": "aa5ae9c4",
   "metadata": {},
   "outputs": [],
   "source": [
    "def get_year(row)->int:\n",
    "    \"\"\"add 19 to string with split on / in case of 9x else add 20\"\"\"\n",
    "    saison = row['Saison']\n",
    "    first_year, second_year = saison.split('/')\n",
    "    first_year = first_year.strip()\n",
    "    if first_year.startswith('9'):\n",
    "        return int(\"19\"+first_year)\n",
    "    else:\n",
    "        return int(\"20\"+first_year)\n",
    "        "
   ]
  },
  {
   "cell_type": "markdown",
   "id": "37ed9823",
   "metadata": {},
   "source": [
    "Punkte berechnen basierend auf der Biertoto Berechnung"
   ]
  },
  {
   "cell_type": "code",
   "execution_count": 16,
   "id": "06760b7b",
   "metadata": {},
   "outputs": [],
   "source": [
    "def calculate_points_generic_historic(tendency:bool=False, \n",
    "                             same_goal_difference:bool=False, \n",
    "                             same_result:bool=False,\n",
    "                            draw:bool=False)->int:\n",
    "    result_points = 0\n",
    "    if tendency:\n",
    "        result_points += 1\n",
    "    if same_goal_difference and not draw:\n",
    "        result_points += 1\n",
    "    if same_result:\n",
    "        if not draw:\n",
    "            result_points += 1\n",
    "        else:\n",
    "            result_points += 2\n",
    "    return result_points\n",
    "    "
   ]
  },
  {
   "cell_type": "markdown",
   "id": "4ff9b4d4",
   "metadata": {},
   "source": [
    "ein paar Tests"
   ]
  },
  {
   "cell_type": "code",
   "execution_count": 17,
   "id": "298c539c",
   "metadata": {},
   "outputs": [],
   "source": [
    "# Test historic calculation\n",
    "assert calculate_points_generic_historic(tendency=True, same_goal_difference=True, same_result=False, draw=True) == 1 \n",
    "assert calculate_points_generic_historic(tendency=True, same_goal_difference=True, same_result=True, draw=True) == 3 \n",
    "assert calculate_points_generic_historic(tendency=False, same_goal_difference=False, same_result=False, draw=True) == 0\n",
    "assert calculate_points_generic_historic(tendency=True, same_goal_difference=True, same_result=False, draw=False) == 2"
   ]
  },
  {
   "cell_type": "markdown",
   "id": "b607c63c",
   "metadata": {},
   "source": [
    "Punkte berechnen basierend auf der Kicktipp Berechnung"
   ]
  },
  {
   "cell_type": "code",
   "execution_count": 18,
   "id": "cc0430e0",
   "metadata": {},
   "outputs": [],
   "source": [
    "def calculate_points_generic_kicktipp(tendency:bool=False, \n",
    "                             same_goal_difference:bool=False, \n",
    "                             same_result:bool=False,\n",
    "                            draw:bool=False)->int:\n",
    "    result_points = 0\n",
    "    if tendency:\n",
    "        result_points += 2\n",
    "    if same_goal_difference and not draw:\n",
    "        result_points += 1\n",
    "    if same_result:\n",
    "        if not draw:\n",
    "            result_points += 1\n",
    "        else:\n",
    "            result_points += 1\n",
    "    return result_points\n",
    "    "
   ]
  },
  {
   "cell_type": "markdown",
   "id": "1d6cbfa2",
   "metadata": {},
   "source": [
    "und die ganzen Funktionen ausfuehren und als Columns in dem DataFrame speichern"
   ]
  },
  {
   "cell_type": "code",
   "execution_count": 19,
   "id": "fe276f53",
   "metadata": {},
   "outputs": [],
   "source": [
    "df['year'] = df.apply(get_year, axis=1)"
   ]
  },
  {
   "cell_type": "code",
   "execution_count": 20,
   "id": "d7df64b7",
   "metadata": {},
   "outputs": [],
   "source": [
    "df['tendenz'] = df.apply(home_draw_away, axis=1)"
   ]
  },
  {
   "cell_type": "code",
   "execution_count": 21,
   "id": "6ebfd902",
   "metadata": {},
   "outputs": [],
   "source": [
    "df['tendenz_uwe'] = df.apply(home_draw_away_uwe, axis=1)"
   ]
  },
  {
   "cell_type": "code",
   "execution_count": 22,
   "id": "8dd6f7af",
   "metadata": {},
   "outputs": [],
   "source": [
    "df['tendenz_schadix'] = df.apply(home_draw_away_schadix, axis=1)"
   ]
  },
  {
   "cell_type": "code",
   "execution_count": 23,
   "id": "9f4516d4",
   "metadata": {},
   "outputs": [],
   "source": [
    "df['correct_tendenz_uwe'] = df['tendenz'] == df['tendenz_uwe']"
   ]
  },
  {
   "cell_type": "code",
   "execution_count": 24,
   "id": "8138cd8a",
   "metadata": {},
   "outputs": [],
   "source": [
    "df['correct_tendenz_schadix'] = df['tendenz'] == df['tendenz_schadix']"
   ]
  },
  {
   "cell_type": "code",
   "execution_count": 25,
   "id": "d92ff27c",
   "metadata": {},
   "outputs": [],
   "source": [
    "df['same_goal_uwe'] = df.apply(same_goal_difference_uwe, axis=1)"
   ]
  },
  {
   "cell_type": "code",
   "execution_count": 26,
   "id": "0df11984",
   "metadata": {},
   "outputs": [],
   "source": [
    "df['same_goal_schadix'] = df.apply(same_goal_difference_schadix, axis=1)"
   ]
  },
  {
   "cell_type": "code",
   "execution_count": 27,
   "id": "7a61ad45",
   "metadata": {},
   "outputs": [],
   "source": [
    "df['same_result_uwe'] = df.apply(same_result_uwe, axis=1)"
   ]
  },
  {
   "cell_type": "code",
   "execution_count": 28,
   "id": "2c5f1d80",
   "metadata": {},
   "outputs": [],
   "source": [
    "df['same_result_schadix'] = df.apply(same_result_schadix, axis=1)"
   ]
  },
  {
   "cell_type": "code",
   "execution_count": 29,
   "id": "98d48947",
   "metadata": {},
   "outputs": [],
   "source": [
    "df['result_match_uwe_schadix'] = df.apply(lambda row: match_result_generic(row['UHT'], row['UGT'], row['SHT'], row['SGT']), axis=1)"
   ]
  },
  {
   "cell_type": "code",
   "execution_count": 30,
   "id": "3388a59d",
   "metadata": {},
   "outputs": [],
   "source": [
    "df['points_uwe'] = df.apply(lambda row: calculate_points_generic_kicktipp(tendency=row['tendenz_uwe']==row['tendenz'],\n",
    "                                                                 same_goal_difference=row['same_goal_uwe'],\n",
    "                                                                 same_result=row['same_result_uwe'],\n",
    "                                                                 draw=row['SHT']==row['SGT']\n",
    "                                                                ), axis=1)"
   ]
  },
  {
   "cell_type": "code",
   "execution_count": 31,
   "id": "39f6c93e",
   "metadata": {},
   "outputs": [],
   "source": [
    "df['points_uwe_historic'] = df.apply(lambda row: calculate_points_generic_historic(tendency=row['tendenz_uwe']==row['tendenz'],\n",
    "                                                                 same_goal_difference=row['same_goal_uwe'],\n",
    "                                                                 same_result=row['same_result_uwe'],\n",
    "                                                                 draw=row['SHT']==row['SGT']\n",
    "                                                                ), axis=1)"
   ]
  },
  {
   "cell_type": "code",
   "execution_count": 32,
   "id": "e96ce511",
   "metadata": {},
   "outputs": [],
   "source": [
    "df['points_schadix'] = df.apply(lambda row: calculate_points_generic_kicktipp(tendency=row['tendenz_schadix']==row['tendenz'],\n",
    "                                                                 same_goal_difference=row['same_goal_schadix'],\n",
    "                                                                 same_result=row['same_result_schadix'],\n",
    "                                                                 draw=row['SHT']==row['SGT']\n",
    "                                                                ), axis=1)"
   ]
  },
  {
   "cell_type": "code",
   "execution_count": 33,
   "id": "0e47c567",
   "metadata": {},
   "outputs": [],
   "source": [
    "df['points_schadix_historic'] = df.apply(lambda row: calculate_points_generic_historic(tendency=row['tendenz_schadix']==row['tendenz'],\n",
    "                                                                 same_goal_difference=row['same_goal_schadix'],\n",
    "                                                                 same_result=row['same_result_schadix'],\n",
    "                                                                 draw=row['SHT']==row['SGT']                                                                                       \n",
    "                                                                ), axis=1)"
   ]
  },
  {
   "cell_type": "markdown",
   "id": "b1f778cb",
   "metadata": {},
   "source": [
    "Einen String vom Ergebnis erzeugen um spaeter darueber Statistiken zu fahren, machen wir dann fuer das eigentliche Ergebnis, fuer das von Uwe und Schadix"
   ]
  },
  {
   "cell_type": "code",
   "execution_count": 34,
   "id": "a6d7d9b1",
   "metadata": {},
   "outputs": [],
   "source": [
    "def create_result_string(home_goals, guest_goals):\n",
    "    if pd.isnull(home_goals) or pd.isnull(guest_goals):\n",
    "        return np.nan\n",
    "    else:\n",
    "        return str(int(home_goals))+\":\"+str(int(guest_goals))\n",
    "    "
   ]
  },
  {
   "cell_type": "code",
   "execution_count": 35,
   "id": "15a32074",
   "metadata": {},
   "outputs": [],
   "source": [
    "df['result_string']=df.apply(lambda row:str(int(row['Htore']))+\":\"+str(int(row['Gtore'])), axis=1)"
   ]
  },
  {
   "cell_type": "code",
   "execution_count": 36,
   "id": "9c5a1fff",
   "metadata": {},
   "outputs": [],
   "source": [
    "df['result_string_uwe']=df.apply(lambda row: create_result_string(row['UHT'], row['UGT']), axis=1)"
   ]
  },
  {
   "cell_type": "code",
   "execution_count": 37,
   "id": "d05d886b",
   "metadata": {},
   "outputs": [],
   "source": [
    "df['result_string_schadix']=df.apply(lambda row: create_result_string(row['SHT'], row['SGT']), axis=1)"
   ]
  },
  {
   "cell_type": "markdown",
   "id": "41e103ec",
   "metadata": {},
   "source": [
    "Einmal alle column-namen ausgeben, nur mal so"
   ]
  },
  {
   "cell_type": "code",
   "execution_count": 38,
   "id": "22b62fab",
   "metadata": {},
   "outputs": [
    {
     "data": {
      "text/plain": [
       "Index(['Heim', 'Gast', 'Htore', 'Gtore', 'UHT', 'UGT', 'SHT', 'SGT',\n",
       "       'Spieltag', 'Saison', 'Unnamed: 10', 'UP', 'SP', 'Spieltag.1',\n",
       "       'Unnamed: 14', 'year', 'tendenz', 'tendenz_uwe', 'tendenz_schadix',\n",
       "       'correct_tendenz_uwe', 'correct_tendenz_schadix', 'same_goal_uwe',\n",
       "       'same_goal_schadix', 'same_result_uwe', 'same_result_schadix',\n",
       "       'result_match_uwe_schadix', 'points_uwe', 'points_uwe_historic',\n",
       "       'points_schadix', 'points_schadix_historic', 'result_string',\n",
       "       'result_string_uwe', 'result_string_schadix'],\n",
       "      dtype='object')"
      ]
     },
     "execution_count": 38,
     "metadata": {},
     "output_type": "execute_result"
    }
   ],
   "source": [
    "df.columns"
   ]
  },
  {
   "cell_type": "markdown",
   "id": "6b92a349",
   "metadata": {},
   "source": [
    "Wie haeufig hat Schadix nicht getipp?"
   ]
  },
  {
   "cell_type": "code",
   "execution_count": 39,
   "id": "bca78d4c",
   "metadata": {},
   "outputs": [
    {
     "data": {
      "text/html": [
       "<div>\n",
       "<style scoped>\n",
       "    .dataframe tbody tr th:only-of-type {\n",
       "        vertical-align: middle;\n",
       "    }\n",
       "\n",
       "    .dataframe tbody tr th {\n",
       "        vertical-align: top;\n",
       "    }\n",
       "\n",
       "    .dataframe thead th {\n",
       "        text-align: right;\n",
       "    }\n",
       "</style>\n",
       "<table border=\"1\" class=\"dataframe\">\n",
       "  <thead>\n",
       "    <tr style=\"text-align: right;\">\n",
       "      <th></th>\n",
       "      <th>Heim</th>\n",
       "      <th>Gast</th>\n",
       "      <th>Htore</th>\n",
       "      <th>Gtore</th>\n",
       "      <th>UHT</th>\n",
       "      <th>UGT</th>\n",
       "      <th>SHT</th>\n",
       "      <th>SGT</th>\n",
       "      <th>Spieltag</th>\n",
       "      <th>Saison</th>\n",
       "      <th>...</th>\n",
       "      <th>same_result_uwe</th>\n",
       "      <th>same_result_schadix</th>\n",
       "      <th>result_match_uwe_schadix</th>\n",
       "      <th>points_uwe</th>\n",
       "      <th>points_uwe_historic</th>\n",
       "      <th>points_schadix</th>\n",
       "      <th>points_schadix_historic</th>\n",
       "      <th>result_string</th>\n",
       "      <th>result_string_uwe</th>\n",
       "      <th>result_string_schadix</th>\n",
       "    </tr>\n",
       "  </thead>\n",
       "  <tbody>\n",
       "    <tr>\n",
       "      <th>1620</th>\n",
       "      <td>Energie Cottbus</td>\n",
       "      <td>Vfl Wolfsburg</td>\n",
       "      <td>0.0</td>\n",
       "      <td>0.0</td>\n",
       "      <td>3.0</td>\n",
       "      <td>1.0</td>\n",
       "      <td>NaN</td>\n",
       "      <td>NaN</td>\n",
       "      <td>28</td>\n",
       "      <td>00/01</td>\n",
       "      <td>...</td>\n",
       "      <td>False</td>\n",
       "      <td>False</td>\n",
       "      <td>False</td>\n",
       "      <td>0</td>\n",
       "      <td>0</td>\n",
       "      <td>0</td>\n",
       "      <td>0</td>\n",
       "      <td>0:0</td>\n",
       "      <td>3:1</td>\n",
       "      <td>NaN</td>\n",
       "    </tr>\n",
       "    <tr>\n",
       "      <th>1621</th>\n",
       "      <td>Eintracht Frankfurt</td>\n",
       "      <td>Bayer Leverkusen</td>\n",
       "      <td>1.0</td>\n",
       "      <td>3.0</td>\n",
       "      <td>0.0</td>\n",
       "      <td>3.0</td>\n",
       "      <td>NaN</td>\n",
       "      <td>NaN</td>\n",
       "      <td>28</td>\n",
       "      <td>00/01</td>\n",
       "      <td>...</td>\n",
       "      <td>False</td>\n",
       "      <td>False</td>\n",
       "      <td>False</td>\n",
       "      <td>2</td>\n",
       "      <td>1</td>\n",
       "      <td>0</td>\n",
       "      <td>0</td>\n",
       "      <td>1:3</td>\n",
       "      <td>0:3</td>\n",
       "      <td>NaN</td>\n",
       "    </tr>\n",
       "    <tr>\n",
       "      <th>1622</th>\n",
       "      <td>1. FC Köln</td>\n",
       "      <td>SpVgg Unterhaching</td>\n",
       "      <td>1.0</td>\n",
       "      <td>1.0</td>\n",
       "      <td>4.0</td>\n",
       "      <td>1.0</td>\n",
       "      <td>NaN</td>\n",
       "      <td>NaN</td>\n",
       "      <td>28</td>\n",
       "      <td>00/01</td>\n",
       "      <td>...</td>\n",
       "      <td>False</td>\n",
       "      <td>False</td>\n",
       "      <td>False</td>\n",
       "      <td>0</td>\n",
       "      <td>0</td>\n",
       "      <td>0</td>\n",
       "      <td>0</td>\n",
       "      <td>1:1</td>\n",
       "      <td>4:1</td>\n",
       "      <td>NaN</td>\n",
       "    </tr>\n",
       "    <tr>\n",
       "      <th>1623</th>\n",
       "      <td>1860 München</td>\n",
       "      <td>Vfl Bochum</td>\n",
       "      <td>2.0</td>\n",
       "      <td>4.0</td>\n",
       "      <td>3.0</td>\n",
       "      <td>0.0</td>\n",
       "      <td>NaN</td>\n",
       "      <td>NaN</td>\n",
       "      <td>28</td>\n",
       "      <td>00/01</td>\n",
       "      <td>...</td>\n",
       "      <td>False</td>\n",
       "      <td>False</td>\n",
       "      <td>False</td>\n",
       "      <td>0</td>\n",
       "      <td>0</td>\n",
       "      <td>0</td>\n",
       "      <td>0</td>\n",
       "      <td>2:4</td>\n",
       "      <td>3:0</td>\n",
       "      <td>NaN</td>\n",
       "    </tr>\n",
       "    <tr>\n",
       "      <th>1624</th>\n",
       "      <td>Werder Bremen</td>\n",
       "      <td>Hertha BSC Berlin</td>\n",
       "      <td>3.0</td>\n",
       "      <td>1.0</td>\n",
       "      <td>2.0</td>\n",
       "      <td>0.0</td>\n",
       "      <td>NaN</td>\n",
       "      <td>NaN</td>\n",
       "      <td>28</td>\n",
       "      <td>00/01</td>\n",
       "      <td>...</td>\n",
       "      <td>False</td>\n",
       "      <td>False</td>\n",
       "      <td>False</td>\n",
       "      <td>3</td>\n",
       "      <td>2</td>\n",
       "      <td>0</td>\n",
       "      <td>0</td>\n",
       "      <td>3:1</td>\n",
       "      <td>2:0</td>\n",
       "      <td>NaN</td>\n",
       "    </tr>\n",
       "    <tr>\n",
       "      <th>...</th>\n",
       "      <td>...</td>\n",
       "      <td>...</td>\n",
       "      <td>...</td>\n",
       "      <td>...</td>\n",
       "      <td>...</td>\n",
       "      <td>...</td>\n",
       "      <td>...</td>\n",
       "      <td>...</td>\n",
       "      <td>...</td>\n",
       "      <td>...</td>\n",
       "      <td>...</td>\n",
       "      <td>...</td>\n",
       "      <td>...</td>\n",
       "      <td>...</td>\n",
       "      <td>...</td>\n",
       "      <td>...</td>\n",
       "      <td>...</td>\n",
       "      <td>...</td>\n",
       "      <td>...</td>\n",
       "      <td>...</td>\n",
       "      <td>...</td>\n",
       "    </tr>\n",
       "    <tr>\n",
       "      <th>7191</th>\n",
       "      <td>FC Bayern München</td>\n",
       "      <td>Hertha BSC</td>\n",
       "      <td>2.0</td>\n",
       "      <td>2.0</td>\n",
       "      <td>2.0</td>\n",
       "      <td>0.0</td>\n",
       "      <td>NaN</td>\n",
       "      <td>NaN</td>\n",
       "      <td>1</td>\n",
       "      <td>19/20</td>\n",
       "      <td>...</td>\n",
       "      <td>False</td>\n",
       "      <td>False</td>\n",
       "      <td>False</td>\n",
       "      <td>0</td>\n",
       "      <td>0</td>\n",
       "      <td>0</td>\n",
       "      <td>0</td>\n",
       "      <td>2:2</td>\n",
       "      <td>2:0</td>\n",
       "      <td>NaN</td>\n",
       "    </tr>\n",
       "    <tr>\n",
       "      <th>7758</th>\n",
       "      <td>1. FC Köln</td>\n",
       "      <td>RB Leipzig</td>\n",
       "      <td>2.0</td>\n",
       "      <td>1.0</td>\n",
       "      <td>1.0</td>\n",
       "      <td>3.0</td>\n",
       "      <td>NaN</td>\n",
       "      <td>NaN</td>\n",
       "      <td>30</td>\n",
       "      <td>20/21</td>\n",
       "      <td>...</td>\n",
       "      <td>False</td>\n",
       "      <td>False</td>\n",
       "      <td>False</td>\n",
       "      <td>0</td>\n",
       "      <td>0</td>\n",
       "      <td>0</td>\n",
       "      <td>0</td>\n",
       "      <td>2:1</td>\n",
       "      <td>1:3</td>\n",
       "      <td>NaN</td>\n",
       "    </tr>\n",
       "    <tr>\n",
       "      <th>7759</th>\n",
       "      <td>FC Bayern München</td>\n",
       "      <td>Bayer 04 Leverkusen</td>\n",
       "      <td>2.0</td>\n",
       "      <td>0.0</td>\n",
       "      <td>3.0</td>\n",
       "      <td>1.0</td>\n",
       "      <td>NaN</td>\n",
       "      <td>NaN</td>\n",
       "      <td>30</td>\n",
       "      <td>20/21</td>\n",
       "      <td>...</td>\n",
       "      <td>False</td>\n",
       "      <td>False</td>\n",
       "      <td>False</td>\n",
       "      <td>3</td>\n",
       "      <td>2</td>\n",
       "      <td>0</td>\n",
       "      <td>0</td>\n",
       "      <td>2:0</td>\n",
       "      <td>3:1</td>\n",
       "      <td>NaN</td>\n",
       "    </tr>\n",
       "    <tr>\n",
       "      <th>7760</th>\n",
       "      <td>Eintracht Frankfurt</td>\n",
       "      <td>FC Augsburg</td>\n",
       "      <td>2.0</td>\n",
       "      <td>0.0</td>\n",
       "      <td>2.0</td>\n",
       "      <td>1.0</td>\n",
       "      <td>NaN</td>\n",
       "      <td>NaN</td>\n",
       "      <td>30</td>\n",
       "      <td>20/21</td>\n",
       "      <td>...</td>\n",
       "      <td>False</td>\n",
       "      <td>False</td>\n",
       "      <td>False</td>\n",
       "      <td>2</td>\n",
       "      <td>1</td>\n",
       "      <td>0</td>\n",
       "      <td>0</td>\n",
       "      <td>2:0</td>\n",
       "      <td>2:1</td>\n",
       "      <td>NaN</td>\n",
       "    </tr>\n",
       "    <tr>\n",
       "      <th>7761</th>\n",
       "      <td>Arminia Bielefeld</td>\n",
       "      <td>FC Schalke 04</td>\n",
       "      <td>1.0</td>\n",
       "      <td>0.0</td>\n",
       "      <td>3.0</td>\n",
       "      <td>1.0</td>\n",
       "      <td>NaN</td>\n",
       "      <td>NaN</td>\n",
       "      <td>30</td>\n",
       "      <td>20/21</td>\n",
       "      <td>...</td>\n",
       "      <td>False</td>\n",
       "      <td>False</td>\n",
       "      <td>False</td>\n",
       "      <td>2</td>\n",
       "      <td>1</td>\n",
       "      <td>0</td>\n",
       "      <td>0</td>\n",
       "      <td>1:0</td>\n",
       "      <td>3:1</td>\n",
       "      <td>NaN</td>\n",
       "    </tr>\n",
       "  </tbody>\n",
       "</table>\n",
       "<p>189 rows × 33 columns</p>\n",
       "</div>"
      ],
      "text/plain": [
       "                      Heim                 Gast  Htore  Gtore  UHT  UGT  SHT  \\\n",
       "1620       Energie Cottbus       Vfl Wolfsburg     0.0    0.0  3.0  1.0  NaN   \n",
       "1621   Eintracht Frankfurt    Bayer Leverkusen     1.0    3.0  0.0  3.0  NaN   \n",
       "1622            1. FC Köln  SpVgg Unterhaching     1.0    1.0  4.0  1.0  NaN   \n",
       "1623          1860 München          Vfl Bochum     2.0    4.0  3.0  0.0  NaN   \n",
       "1624         Werder Bremen   Hertha BSC Berlin     3.0    1.0  2.0  0.0  NaN   \n",
       "...                    ...                  ...    ...    ...  ...  ...  ...   \n",
       "7191     FC Bayern München           Hertha BSC    2.0    2.0  2.0  0.0  NaN   \n",
       "7758            1. FC Köln           RB Leipzig    2.0    1.0  1.0  3.0  NaN   \n",
       "7759     FC Bayern München  Bayer 04 Leverkusen    2.0    0.0  3.0  1.0  NaN   \n",
       "7760   Eintracht Frankfurt          FC Augsburg    2.0    0.0  2.0  1.0  NaN   \n",
       "7761     Arminia Bielefeld        FC Schalke 04    1.0    0.0  3.0  1.0  NaN   \n",
       "\n",
       "      SGT  Spieltag  Saison  ...  same_result_uwe  same_result_schadix  \\\n",
       "1620  NaN        28   00/01  ...            False                False   \n",
       "1621  NaN        28   00/01  ...            False                False   \n",
       "1622  NaN        28   00/01  ...            False                False   \n",
       "1623  NaN        28   00/01  ...            False                False   \n",
       "1624  NaN        28   00/01  ...            False                False   \n",
       "...   ...       ...     ...  ...              ...                  ...   \n",
       "7191  NaN         1   19/20  ...            False                False   \n",
       "7758  NaN        30   20/21  ...            False                False   \n",
       "7759  NaN        30   20/21  ...            False                False   \n",
       "7760  NaN        30   20/21  ...            False                False   \n",
       "7761  NaN        30   20/21  ...            False                False   \n",
       "\n",
       "      result_match_uwe_schadix  points_uwe  points_uwe_historic  \\\n",
       "1620                     False           0                    0   \n",
       "1621                     False           2                    1   \n",
       "1622                     False           0                    0   \n",
       "1623                     False           0                    0   \n",
       "1624                     False           3                    2   \n",
       "...                        ...         ...                  ...   \n",
       "7191                     False           0                    0   \n",
       "7758                     False           0                    0   \n",
       "7759                     False           3                    2   \n",
       "7760                     False           2                    1   \n",
       "7761                     False           2                    1   \n",
       "\n",
       "      points_schadix points_schadix_historic result_string result_string_uwe  \\\n",
       "1620               0                       0           0:0               3:1   \n",
       "1621               0                       0           1:3               0:3   \n",
       "1622               0                       0           1:1               4:1   \n",
       "1623               0                       0           2:4               3:0   \n",
       "1624               0                       0           3:1               2:0   \n",
       "...              ...                     ...           ...               ...   \n",
       "7191               0                       0           2:2               2:0   \n",
       "7758               0                       0           2:1               1:3   \n",
       "7759               0                       0           2:0               3:1   \n",
       "7760               0                       0           2:0               2:1   \n",
       "7761               0                       0           1:0               3:1   \n",
       "\n",
       "      result_string_schadix  \n",
       "1620                    NaN  \n",
       "1621                    NaN  \n",
       "1622                    NaN  \n",
       "1623                    NaN  \n",
       "1624                    NaN  \n",
       "...                     ...  \n",
       "7191                    NaN  \n",
       "7758                    NaN  \n",
       "7759                    NaN  \n",
       "7760                    NaN  \n",
       "7761                    NaN  \n",
       "\n",
       "[189 rows x 33 columns]"
      ]
     },
     "execution_count": 39,
     "metadata": {},
     "output_type": "execute_result"
    }
   ],
   "source": [
    "df[df['SHT'].isna()]"
   ]
  },
  {
   "cell_type": "markdown",
   "id": "2c791661",
   "metadata": {},
   "source": [
    "Gruppiere in Jahre und summiere die Punkte fuer Uwe und Schadix auf und speichere in einen neuen DataFrame"
   ]
  },
  {
   "cell_type": "markdown",
   "id": "5491b8b2",
   "metadata": {},
   "source": [
    "## Kicktipp Calculation"
   ]
  },
  {
   "cell_type": "code",
   "execution_count": 40,
   "id": "3dbc4888",
   "metadata": {},
   "outputs": [],
   "source": [
    "df_points_sum = df.groupby('year').sum(['points_schadix', 'points_uwe'])[['points_schadix', 'points_uwe']]"
   ]
  },
  {
   "cell_type": "code",
   "execution_count": 41,
   "id": "8cb7ac8d",
   "metadata": {},
   "outputs": [
    {
     "data": {
      "text/html": [
       "<div>\n",
       "<style scoped>\n",
       "    .dataframe tbody tr th:only-of-type {\n",
       "        vertical-align: middle;\n",
       "    }\n",
       "\n",
       "    .dataframe tbody tr th {\n",
       "        vertical-align: top;\n",
       "    }\n",
       "\n",
       "    .dataframe thead th {\n",
       "        text-align: right;\n",
       "    }\n",
       "</style>\n",
       "<table border=\"1\" class=\"dataframe\">\n",
       "  <thead>\n",
       "    <tr style=\"text-align: right;\">\n",
       "      <th></th>\n",
       "      <th>points_schadix</th>\n",
       "      <th>points_uwe</th>\n",
       "    </tr>\n",
       "    <tr>\n",
       "      <th>year</th>\n",
       "      <th></th>\n",
       "      <th></th>\n",
       "    </tr>\n",
       "  </thead>\n",
       "  <tbody>\n",
       "    <tr>\n",
       "      <th>1995</th>\n",
       "      <td>124</td>\n",
       "      <td>141</td>\n",
       "    </tr>\n",
       "    <tr>\n",
       "      <th>1996</th>\n",
       "      <td>345</td>\n",
       "      <td>367</td>\n",
       "    </tr>\n",
       "    <tr>\n",
       "      <th>1997</th>\n",
       "      <td>316</td>\n",
       "      <td>348</td>\n",
       "    </tr>\n",
       "    <tr>\n",
       "      <th>1998</th>\n",
       "      <td>321</td>\n",
       "      <td>383</td>\n",
       "    </tr>\n",
       "    <tr>\n",
       "      <th>1999</th>\n",
       "      <td>353</td>\n",
       "      <td>362</td>\n",
       "    </tr>\n",
       "    <tr>\n",
       "      <th>2000</th>\n",
       "      <td>296</td>\n",
       "      <td>366</td>\n",
       "    </tr>\n",
       "    <tr>\n",
       "      <th>2001</th>\n",
       "      <td>327</td>\n",
       "      <td>382</td>\n",
       "    </tr>\n",
       "    <tr>\n",
       "      <th>2002</th>\n",
       "      <td>311</td>\n",
       "      <td>360</td>\n",
       "    </tr>\n",
       "    <tr>\n",
       "      <th>2003</th>\n",
       "      <td>407</td>\n",
       "      <td>355</td>\n",
       "    </tr>\n",
       "    <tr>\n",
       "      <th>2004</th>\n",
       "      <td>329</td>\n",
       "      <td>382</td>\n",
       "    </tr>\n",
       "    <tr>\n",
       "      <th>2005</th>\n",
       "      <td>310</td>\n",
       "      <td>333</td>\n",
       "    </tr>\n",
       "    <tr>\n",
       "      <th>2006</th>\n",
       "      <td>327</td>\n",
       "      <td>268</td>\n",
       "    </tr>\n",
       "    <tr>\n",
       "      <th>2007</th>\n",
       "      <td>267</td>\n",
       "      <td>342</td>\n",
       "    </tr>\n",
       "    <tr>\n",
       "      <th>2008</th>\n",
       "      <td>359</td>\n",
       "      <td>308</td>\n",
       "    </tr>\n",
       "    <tr>\n",
       "      <th>2009</th>\n",
       "      <td>388</td>\n",
       "      <td>327</td>\n",
       "    </tr>\n",
       "    <tr>\n",
       "      <th>2010</th>\n",
       "      <td>324</td>\n",
       "      <td>330</td>\n",
       "    </tr>\n",
       "    <tr>\n",
       "      <th>2011</th>\n",
       "      <td>368</td>\n",
       "      <td>342</td>\n",
       "    </tr>\n",
       "    <tr>\n",
       "      <th>2012</th>\n",
       "      <td>365</td>\n",
       "      <td>378</td>\n",
       "    </tr>\n",
       "    <tr>\n",
       "      <th>2013</th>\n",
       "      <td>400</td>\n",
       "      <td>324</td>\n",
       "    </tr>\n",
       "    <tr>\n",
       "      <th>2014</th>\n",
       "      <td>352</td>\n",
       "      <td>342</td>\n",
       "    </tr>\n",
       "    <tr>\n",
       "      <th>2015</th>\n",
       "      <td>350</td>\n",
       "      <td>379</td>\n",
       "    </tr>\n",
       "    <tr>\n",
       "      <th>2016</th>\n",
       "      <td>372</td>\n",
       "      <td>388</td>\n",
       "    </tr>\n",
       "    <tr>\n",
       "      <th>2017</th>\n",
       "      <td>330</td>\n",
       "      <td>362</td>\n",
       "    </tr>\n",
       "    <tr>\n",
       "      <th>2018</th>\n",
       "      <td>392</td>\n",
       "      <td>369</td>\n",
       "    </tr>\n",
       "    <tr>\n",
       "      <th>2019</th>\n",
       "      <td>390</td>\n",
       "      <td>380</td>\n",
       "    </tr>\n",
       "    <tr>\n",
       "      <th>2020</th>\n",
       "      <td>369</td>\n",
       "      <td>369</td>\n",
       "    </tr>\n",
       "    <tr>\n",
       "      <th>2021</th>\n",
       "      <td>115</td>\n",
       "      <td>118</td>\n",
       "    </tr>\n",
       "  </tbody>\n",
       "</table>\n",
       "</div>"
      ],
      "text/plain": [
       "      points_schadix  points_uwe\n",
       "year                            \n",
       "1995             124         141\n",
       "1996             345         367\n",
       "1997             316         348\n",
       "1998             321         383\n",
       "1999             353         362\n",
       "2000             296         366\n",
       "2001             327         382\n",
       "2002             311         360\n",
       "2003             407         355\n",
       "2004             329         382\n",
       "2005             310         333\n",
       "2006             327         268\n",
       "2007             267         342\n",
       "2008             359         308\n",
       "2009             388         327\n",
       "2010             324         330\n",
       "2011             368         342\n",
       "2012             365         378\n",
       "2013             400         324\n",
       "2014             352         342\n",
       "2015             350         379\n",
       "2016             372         388\n",
       "2017             330         362\n",
       "2018             392         369\n",
       "2019             390         380\n",
       "2020             369         369\n",
       "2021             115         118"
      ]
     },
     "execution_count": 41,
     "metadata": {},
     "output_type": "execute_result"
    }
   ],
   "source": [
    "df_points_sum"
   ]
  },
  {
   "cell_type": "markdown",
   "id": "fcd9b585",
   "metadata": {},
   "source": [
    "### Gesamtpunkte im Laufe der Zeit"
   ]
  },
  {
   "cell_type": "markdown",
   "id": "be3f899b",
   "metadata": {},
   "source": [
    "Jetzt mal die kummulierten Punkte in einer Grafik darstellen"
   ]
  },
  {
   "cell_type": "code",
   "execution_count": 42,
   "id": "2fbeabf1",
   "metadata": {},
   "outputs": [],
   "source": [
    "df_sum_points = df_points_sum.cumsum()"
   ]
  },
  {
   "cell_type": "code",
   "execution_count": 43,
   "id": "b2a6de12",
   "metadata": {},
   "outputs": [
    {
     "data": {
      "text/plain": [
       "<AxesSubplot:xlabel='year'>"
      ]
     },
     "execution_count": 43,
     "metadata": {},
     "output_type": "execute_result"
    },
    {
     "data": {
      "image/png": "[encoded data removed]",
      "text/plain": [
       "<Figure size 432x288 with 1 Axes>"
      ]
     },
     "metadata": {
      "needs_background": "light"
     },
     "output_type": "display_data"
    }
   ],
   "source": [
    "df_points_sum.cumsum().plot()"
   ]
  },
  {
   "cell_type": "markdown",
   "id": "3609f1d2",
   "metadata": {},
   "source": [
    "### Gesamtpunke-Abstand Uwe-Schadix"
   ]
  },
  {
   "cell_type": "code",
   "execution_count": 44,
   "id": "fcf9a369",
   "metadata": {},
   "outputs": [
    {
     "data": {
      "text/plain": [
       "<AxesSubplot:xlabel='year'>"
      ]
     },
     "execution_count": 44,
     "metadata": {},
     "output_type": "execute_result"
    },
    {
     "data": {
      "image/png": "[encoded data removed]",
      "text/plain": [
       "<Figure size 432x288 with 1 Axes>"
      ]
     },
     "metadata": {
      "needs_background": "light"
     },
     "output_type": "display_data"
    }
   ],
   "source": [
    "df_sum_points['point_difference'] = df_sum_points['points_uwe'] - df_sum_points['points_schadix']\n",
    "df_sum_points['point_difference'].plot()"
   ]
  },
  {
   "cell_type": "markdown",
   "id": "e563e320",
   "metadata": {},
   "source": [
    "## Historische Kalkulation"
   ]
  },
  {
   "cell_type": "code",
   "execution_count": 45,
   "id": "2c5278be",
   "metadata": {},
   "outputs": [],
   "source": [
    "df_points_sum = df.groupby('year').sum(['points_schadix_historic', 'points_uwe_historic'])[['points_schadix_historic', 'points_uwe_historic']]"
   ]
  },
  {
   "cell_type": "code",
   "execution_count": 46,
   "id": "a341f0d8",
   "metadata": {},
   "outputs": [
    {
     "data": {
      "text/html": [
       "<div>\n",
       "<style scoped>\n",
       "    .dataframe tbody tr th:only-of-type {\n",
       "        vertical-align: middle;\n",
       "    }\n",
       "\n",
       "    .dataframe tbody tr th {\n",
       "        vertical-align: top;\n",
       "    }\n",
       "\n",
       "    .dataframe thead th {\n",
       "        text-align: right;\n",
       "    }\n",
       "</style>\n",
       "<table border=\"1\" class=\"dataframe\">\n",
       "  <thead>\n",
       "    <tr style=\"text-align: right;\">\n",
       "      <th></th>\n",
       "      <th>points_schadix_historic</th>\n",
       "      <th>points_uwe_historic</th>\n",
       "    </tr>\n",
       "    <tr>\n",
       "      <th>year</th>\n",
       "      <th></th>\n",
       "      <th></th>\n",
       "    </tr>\n",
       "  </thead>\n",
       "  <tbody>\n",
       "    <tr>\n",
       "      <th>1995</th>\n",
       "      <td>72</td>\n",
       "      <td>85</td>\n",
       "    </tr>\n",
       "    <tr>\n",
       "      <th>1996</th>\n",
       "      <td>205</td>\n",
       "      <td>222</td>\n",
       "    </tr>\n",
       "    <tr>\n",
       "      <th>1997</th>\n",
       "      <td>197</td>\n",
       "      <td>217</td>\n",
       "    </tr>\n",
       "    <tr>\n",
       "      <th>1998</th>\n",
       "      <td>196</td>\n",
       "      <td>237</td>\n",
       "    </tr>\n",
       "    <tr>\n",
       "      <th>1999</th>\n",
       "      <td>222</td>\n",
       "      <td>219</td>\n",
       "    </tr>\n",
       "    <tr>\n",
       "      <th>2000</th>\n",
       "      <td>177</td>\n",
       "      <td>219</td>\n",
       "    </tr>\n",
       "    <tr>\n",
       "      <th>2001</th>\n",
       "      <td>192</td>\n",
       "      <td>226</td>\n",
       "    </tr>\n",
       "    <tr>\n",
       "      <th>2002</th>\n",
       "      <td>187</td>\n",
       "      <td>220</td>\n",
       "    </tr>\n",
       "    <tr>\n",
       "      <th>2003</th>\n",
       "      <td>250</td>\n",
       "      <td>211</td>\n",
       "    </tr>\n",
       "    <tr>\n",
       "      <th>2004</th>\n",
       "      <td>199</td>\n",
       "      <td>233</td>\n",
       "    </tr>\n",
       "    <tr>\n",
       "      <th>2005</th>\n",
       "      <td>191</td>\n",
       "      <td>205</td>\n",
       "    </tr>\n",
       "    <tr>\n",
       "      <th>2006</th>\n",
       "      <td>207</td>\n",
       "      <td>154</td>\n",
       "    </tr>\n",
       "    <tr>\n",
       "      <th>2007</th>\n",
       "      <td>165</td>\n",
       "      <td>210</td>\n",
       "    </tr>\n",
       "    <tr>\n",
       "      <th>2008</th>\n",
       "      <td>226</td>\n",
       "      <td>188</td>\n",
       "    </tr>\n",
       "    <tr>\n",
       "      <th>2009</th>\n",
       "      <td>247</td>\n",
       "      <td>205</td>\n",
       "    </tr>\n",
       "    <tr>\n",
       "      <th>2010</th>\n",
       "      <td>202</td>\n",
       "      <td>207</td>\n",
       "    </tr>\n",
       "    <tr>\n",
       "      <th>2011</th>\n",
       "      <td>222</td>\n",
       "      <td>214</td>\n",
       "    </tr>\n",
       "    <tr>\n",
       "      <th>2012</th>\n",
       "      <td>222</td>\n",
       "      <td>239</td>\n",
       "    </tr>\n",
       "    <tr>\n",
       "      <th>2013</th>\n",
       "      <td>247</td>\n",
       "      <td>195</td>\n",
       "    </tr>\n",
       "    <tr>\n",
       "      <th>2014</th>\n",
       "      <td>215</td>\n",
       "      <td>207</td>\n",
       "    </tr>\n",
       "    <tr>\n",
       "      <th>2015</th>\n",
       "      <td>213</td>\n",
       "      <td>236</td>\n",
       "    </tr>\n",
       "    <tr>\n",
       "      <th>2016</th>\n",
       "      <td>230</td>\n",
       "      <td>244</td>\n",
       "    </tr>\n",
       "    <tr>\n",
       "      <th>2017</th>\n",
       "      <td>201</td>\n",
       "      <td>222</td>\n",
       "    </tr>\n",
       "    <tr>\n",
       "      <th>2018</th>\n",
       "      <td>232</td>\n",
       "      <td>225</td>\n",
       "    </tr>\n",
       "    <tr>\n",
       "      <th>2019</th>\n",
       "      <td>234</td>\n",
       "      <td>231</td>\n",
       "    </tr>\n",
       "    <tr>\n",
       "      <th>2020</th>\n",
       "      <td>223</td>\n",
       "      <td>230</td>\n",
       "    </tr>\n",
       "    <tr>\n",
       "      <th>2021</th>\n",
       "      <td>73</td>\n",
       "      <td>73</td>\n",
       "    </tr>\n",
       "  </tbody>\n",
       "</table>\n",
       "</div>"
      ],
      "text/plain": [
       "      points_schadix_historic  points_uwe_historic\n",
       "year                                              \n",
       "1995                       72                   85\n",
       "1996                      205                  222\n",
       "1997                      197                  217\n",
       "1998                      196                  237\n",
       "1999                      222                  219\n",
       "2000                      177                  219\n",
       "2001                      192                  226\n",
       "2002                      187                  220\n",
       "2003                      250                  211\n",
       "2004                      199                  233\n",
       "2005                      191                  205\n",
       "2006                      207                  154\n",
       "2007                      165                  210\n",
       "2008                      226                  188\n",
       "2009                      247                  205\n",
       "2010                      202                  207\n",
       "2011                      222                  214\n",
       "2012                      222                  239\n",
       "2013                      247                  195\n",
       "2014                      215                  207\n",
       "2015                      213                  236\n",
       "2016                      230                  244\n",
       "2017                      201                  222\n",
       "2018                      232                  225\n",
       "2019                      234                  231\n",
       "2020                      223                  230\n",
       "2021                       73                   73"
      ]
     },
     "execution_count": 46,
     "metadata": {},
     "output_type": "execute_result"
    }
   ],
   "source": [
    "df_points_sum"
   ]
  },
  {
   "cell_type": "markdown",
   "id": "25651b59",
   "metadata": {},
   "source": [
    "### Gesamtpunkte im Laufe der Zeit"
   ]
  },
  {
   "cell_type": "markdown",
   "id": "e4288eb4",
   "metadata": {},
   "source": [
    "Jetzt mal die kummulierten Punkte in einer Grafik darstellen"
   ]
  },
  {
   "cell_type": "code",
   "execution_count": 47,
   "id": "7c6d921f",
   "metadata": {},
   "outputs": [],
   "source": [
    "df_sum_points = df_points_sum.cumsum()"
   ]
  },
  {
   "cell_type": "code",
   "execution_count": 48,
   "id": "20423572",
   "metadata": {},
   "outputs": [
    {
     "data": {
      "text/plain": [
       "<AxesSubplot:xlabel='year'>"
      ]
     },
     "execution_count": 48,
     "metadata": {},
     "output_type": "execute_result"
    },
    {
     "data": {
      "image/png": "[encoded data removed]",
      "text/plain": [
       "<Figure size 432x288 with 1 Axes>"
      ]
     },
     "metadata": {
      "needs_background": "light"
     },
     "output_type": "display_data"
    }
   ],
   "source": [
    "df_points_sum.cumsum().plot()"
   ]
  },
  {
   "cell_type": "markdown",
   "id": "602c2f5b",
   "metadata": {},
   "source": [
    "### Gesamtpunke-Abstand Uwe-Schadix"
   ]
  },
  {
   "cell_type": "code",
   "execution_count": 49,
   "id": "1aaba779",
   "metadata": {},
   "outputs": [
    {
     "data": {
      "text/plain": [
       "<AxesSubplot:xlabel='year'>"
      ]
     },
     "execution_count": 49,
     "metadata": {},
     "output_type": "execute_result"
    },
    {
     "data": {
      "image/png": "[encoded data removed]",
      "text/plain": [
       "<Figure size 432x288 with 1 Axes>"
      ]
     },
     "metadata": {
      "needs_background": "light"
     },
     "output_type": "display_data"
    }
   ],
   "source": [
    "df_sum_points['point_difference'] = df_sum_points['points_uwe_historic'] - df_sum_points['points_schadix_historic']\n",
    "df_sum_points['point_difference'].plot()"
   ]
  },
  {
   "cell_type": "markdown",
   "id": "0a3434fc",
   "metadata": {},
   "source": [
    "### Wie haeufig gleiche Ergebnisse getippt im Laufe der Zeit"
   ]
  },
  {
   "cell_type": "markdown",
   "id": "1d1c029c",
   "metadata": {},
   "source": [
    "Das [:1] am Ende nimmt die aktuelle Saison raus, weil da noch nicht so viele Ergebnisse vorhanden sind und die Statistik dann nach unten gerissen wird. "
   ]
  },
  {
   "cell_type": "code",
   "execution_count": 50,
   "id": "71202e21",
   "metadata": {},
   "outputs": [],
   "source": [
    "df_same_tipps_over_time = df.groupby('year').sum(['result_match_uwe_schadix'])[['result_match_uwe_schadix']][:-1]"
   ]
  },
  {
   "cell_type": "markdown",
   "id": "42da6d32",
   "metadata": {},
   "source": [
    "damits nicht so eckig aussieht, machen wir ein smoothing des graphen ueber die mean letzten 10 Ergenisse "
   ]
  },
  {
   "cell_type": "code",
   "execution_count": 51,
   "id": "145d3e12",
   "metadata": {},
   "outputs": [],
   "source": [
    "df_same_tipps_over_time['avg_10'] = df_same_tipps_over_time.result_match_uwe_schadix.rolling(10, min_periods=0).mean()"
   ]
  },
  {
   "cell_type": "code",
   "execution_count": 52,
   "id": "658432ce",
   "metadata": {},
   "outputs": [
    {
     "data": {
      "text/plain": [
       "<AxesSubplot:xlabel='year'>"
      ]
     },
     "execution_count": 52,
     "metadata": {},
     "output_type": "execute_result"
    },
    {
     "data": {
      "image/png": "[encoded data removed]",
      "text/plain": [
       "<Figure size 432x288 with 1 Axes>"
      ]
     },
     "metadata": {
      "needs_background": "light"
     },
     "output_type": "display_data"
    }
   ],
   "source": [
    "df_same_tipps_over_time['avg_10'].plot()"
   ]
  },
  {
   "cell_type": "markdown",
   "id": "e4c7764f",
   "metadata": {},
   "source": [
    "Wie haeufig haben wir die gleiche Tendenz getipp im Laufe der Zeit?"
   ]
  },
  {
   "cell_type": "code",
   "execution_count": 53,
   "id": "e04862b6",
   "metadata": {},
   "outputs": [],
   "source": [
    "df['same_tendenz_uwe_schadix'] = df.apply(lambda row: row['tendenz_uwe'] == row['tendenz_schadix'], axis=1)"
   ]
  },
  {
   "cell_type": "code",
   "execution_count": 54,
   "id": "760ccd1b",
   "metadata": {},
   "outputs": [],
   "source": [
    "df_same_tendenz_uwe_schadix = df.groupby('year').sum(['same_tendenz_uwe_schadix'])[['same_tendenz_uwe_schadix']][:-1]"
   ]
  },
  {
   "cell_type": "markdown",
   "id": "7ba879d8",
   "metadata": {},
   "source": [
    "damits nicht so eckig aussieht, machen wir ein smoothing des graphen ueber die mean letzten 10 Ergenisse "
   ]
  },
  {
   "cell_type": "code",
   "execution_count": 55,
   "id": "a740e0d9",
   "metadata": {},
   "outputs": [],
   "source": [
    "df_same_tendenz_uwe_schadix['avg_10'] = df_same_tendenz_uwe_schadix.same_tendenz_uwe_schadix.rolling(10, min_periods=0).mean()"
   ]
  },
  {
   "cell_type": "code",
   "execution_count": 56,
   "id": "b9d73cd7",
   "metadata": {},
   "outputs": [
    {
     "data": {
      "text/plain": [
       "<AxesSubplot:xlabel='year'>"
      ]
     },
     "execution_count": 56,
     "metadata": {},
     "output_type": "execute_result"
    },
    {
     "data": {
      "image/png": "[encoded data removed]",
      "text/plain": [
       "<Figure size 432x288 with 1 Axes>"
      ]
     },
     "metadata": {
      "needs_background": "light"
     },
     "output_type": "display_data"
    }
   ],
   "source": [
    "df_same_tendenz_uwe_schadix.plot()"
   ]
  },
  {
   "cell_type": "markdown",
   "id": "858070fc",
   "metadata": {},
   "source": [
    "Probability of results"
   ]
  },
  {
   "cell_type": "code",
   "execution_count": 57,
   "id": "217ceb5e",
   "metadata": {},
   "outputs": [],
   "source": [
    "results_count = df.groupby('result_string')['result_string'].count().sort_values()\n",
    "results_sum = results_count.sum()\n",
    "df_results_count = pd.DataFrame(index=results_count.index, data=results_count.values, columns=['count'])\n",
    "# results_count['probability_result'] = results_count['']\n",
    "df_results_count['probability_result'] = df_results_count['count'] / results_sum"
   ]
  },
  {
   "cell_type": "markdown",
   "id": "4b8caf53",
   "metadata": {},
   "source": [
    "### Wahrscheinlichkeit fuer ein 0:0"
   ]
  },
  {
   "cell_type": "code",
   "execution_count": 58,
   "id": "160f6ac4",
   "metadata": {},
   "outputs": [
    {
     "name": "stdout",
     "output_type": "stream",
     "text": [
      "Wahrscheinlichkeit fuer ein 0:0 = 6.71 %\n"
     ]
    }
   ],
   "source": [
    "zero_draw_probability = float(df_results_count[df_results_count.index == '0:0']['probability_result'])\n",
    "print(f\"Wahrscheinlichkeit fuer ein 0:0 = {zero_draw_probability*100:0.2f} %\")"
   ]
  },
  {
   "cell_type": "markdown",
   "id": "d4cd52ad",
   "metadata": {},
   "source": [
    "### Es gab in den letzten 25 Jahren kein 5:5..."
   ]
  },
  {
   "cell_type": "code",
   "execution_count": 59,
   "id": "0301f306",
   "metadata": {},
   "outputs": [
    {
     "data": {
      "text/plain": [
       "0"
      ]
     },
     "execution_count": 59,
     "metadata": {},
     "output_type": "execute_result"
    }
   ],
   "source": [
    "a = df_results_count[df_results_count.index == '5:5']['probability_result']\n",
    "len(a)"
   ]
  },
  {
   "cell_type": "code",
   "execution_count": 60,
   "id": "8fdc11e5",
   "metadata": {},
   "outputs": [],
   "source": [
    "def get_probability_number(result_string):\n",
    "    # print(result_string)\n",
    "    if pd.isnull(result_string):\n",
    "        return np.nan\n",
    "    try:\n",
    "        prob = df_results_count[df_results_count.index == result_string]['probability_result']\n",
    "        if len(prob) == 0:\n",
    "            return 1\n",
    "        return 1 - float(prob)\n",
    "    except KeyError as ke:\n",
    "        return np.nan\n"
   ]
  },
  {
   "cell_type": "code",
   "execution_count": 61,
   "id": "6281e61e",
   "metadata": {},
   "outputs": [],
   "source": [
    "df['probability_count_uwe'] = df.apply(lambda row:get_probability_number(row['result_string_uwe']), axis=1)"
   ]
  },
  {
   "cell_type": "code",
   "execution_count": 62,
   "id": "58b40942",
   "metadata": {},
   "outputs": [],
   "source": [
    "df['probability_count_schadix'] = df.apply(lambda row:get_probability_number(row['result_string_schadix']), axis=1)"
   ]
  },
  {
   "cell_type": "code",
   "execution_count": 63,
   "id": "8cef897b",
   "metadata": {},
   "outputs": [
    {
     "name": "stdout",
     "output_type": "stream",
     "text": [
      "Uwe: 7331.625364246801\n",
      "Schadix: 7170.185100722159\n"
     ]
    }
   ],
   "source": [
    "print(f\"Uwe: {df['probability_count_uwe'].sum()}\")\n",
    "print(f\"Schadix: {df['probability_count_schadix'].sum()}\")"
   ]
  },
  {
   "cell_type": "markdown",
   "id": "cc7f2cd0",
   "metadata": {},
   "source": [
    "Probability of results with tips combined"
   ]
  },
  {
   "cell_type": "markdown",
   "id": "c19b71bf",
   "metadata": {},
   "source": [
    "Mit welchem Ergebnis haben wir die meisten Punkte gesammelt"
   ]
  },
  {
   "cell_type": "code",
   "execution_count": 64,
   "id": "00a7011e",
   "metadata": {},
   "outputs": [
    {
     "data": {
      "text/plain": [
       "result_string_schadix\n",
       "2:0    1628\n",
       "2:1    1379\n",
       "1:0    1195\n",
       "3:1     892\n",
       "3:0     590\n",
       "1:1     573\n",
       "0:2     571\n",
       "1:2     449\n",
       "0:1     419\n",
       "1:3     262\n",
       "2:2     203\n",
       "0:3     196\n",
       "3:2     137\n",
       "4:0      87\n",
       "0:0      85\n",
       "4:1      61\n",
       "2:3      58\n",
       "0:4      38\n",
       "1:4      20\n",
       "5:1      15\n",
       "4:2      10\n",
       "3:3       8\n",
       "4:3       8\n",
       "1:5       6\n",
       "5:0       4\n",
       "2:4       4\n",
       "6:1       3\n",
       "1:8       2\n",
       "0:5       2\n",
       "6:2       2\n",
       "3:5       0\n",
       "3:4       0\n",
       "5:5       0\n",
       "6:0       0\n",
       "Name: points_schadix, dtype: int64"
      ]
     },
     "execution_count": 64,
     "metadata": {},
     "output_type": "execute_result"
    }
   ],
   "source": [
    "df.groupby(\"result_string_schadix\")['points_schadix'].sum(['points_schadix']).sort_values(ascending=False)"
   ]
  },
  {
   "cell_type": "code",
   "execution_count": 65,
   "id": "9cbde2ec",
   "metadata": {},
   "outputs": [
    {
     "data": {
      "text/plain": [
       "result_string_uwe\n",
       "2:0    1556\n",
       "2:1    1552\n",
       "3:1    1104\n",
       "1:1     821\n",
       "3:0     737\n",
       "1:2     686\n",
       "1:3     616\n",
       "0:2     556\n",
       "1:0     537\n",
       "2:2     240\n",
       "0:3     165\n",
       "0:1     136\n",
       "4:0     107\n",
       "0:0      84\n",
       "4:1      83\n",
       "3:2      39\n",
       "1:4      38\n",
       "0:4      20\n",
       "4:2      16\n",
       "2:4       6\n",
       "2:3       4\n",
       "0:5       2\n",
       "1:5       0\n",
       "5:0       0\n",
       "5:1       0\n",
       "5:2       0\n",
       "5:4       0\n",
       "Name: points_uwe, dtype: int64"
      ]
     },
     "execution_count": 65,
     "metadata": {},
     "output_type": "execute_result"
    }
   ],
   "source": [
    "df.groupby(\"result_string_uwe\")['points_uwe'].sum(['points_uwe']).sort_values(ascending=False)"
   ]
  },
  {
   "cell_type": "markdown",
   "id": "a7611fd5",
   "metadata": {},
   "source": [
    "#### max points spieltag"
   ]
  },
  {
   "cell_type": "code",
   "execution_count": 66,
   "id": "87f031fe",
   "metadata": {},
   "outputs": [],
   "source": [
    "df_points_spieltag = df.groupby(['year', 'Spieltag']).sum(['points_uwe', 'points_schadix'])"
   ]
  },
  {
   "cell_type": "code",
   "execution_count": 67,
   "id": "753659e6",
   "metadata": {},
   "outputs": [
    {
     "data": {
      "text/html": [
       "<div>\n",
       "<style scoped>\n",
       "    .dataframe tbody tr th:only-of-type {\n",
       "        vertical-align: middle;\n",
       "    }\n",
       "\n",
       "    .dataframe tbody tr th {\n",
       "        vertical-align: top;\n",
       "    }\n",
       "\n",
       "    .dataframe thead th {\n",
       "        text-align: right;\n",
       "    }\n",
       "</style>\n",
       "<table border=\"1\" class=\"dataframe\">\n",
       "  <thead>\n",
       "    <tr style=\"text-align: right;\">\n",
       "      <th></th>\n",
       "      <th></th>\n",
       "      <th>Htore</th>\n",
       "      <th>Gtore</th>\n",
       "      <th>UHT</th>\n",
       "      <th>UGT</th>\n",
       "      <th>SHT</th>\n",
       "      <th>SGT</th>\n",
       "      <th>Unnamed: 10</th>\n",
       "      <th>UP</th>\n",
       "      <th>SP</th>\n",
       "      <th>Spieltag.1</th>\n",
       "      <th>...</th>\n",
       "      <th>same_result_uwe</th>\n",
       "      <th>same_result_schadix</th>\n",
       "      <th>result_match_uwe_schadix</th>\n",
       "      <th>points_uwe</th>\n",
       "      <th>points_uwe_historic</th>\n",
       "      <th>points_schadix</th>\n",
       "      <th>points_schadix_historic</th>\n",
       "      <th>same_tendenz_uwe_schadix</th>\n",
       "      <th>probability_count_uwe</th>\n",
       "      <th>probability_count_schadix</th>\n",
       "    </tr>\n",
       "    <tr>\n",
       "      <th>year</th>\n",
       "      <th>Spieltag</th>\n",
       "      <th></th>\n",
       "      <th></th>\n",
       "      <th></th>\n",
       "      <th></th>\n",
       "      <th></th>\n",
       "      <th></th>\n",
       "      <th></th>\n",
       "      <th></th>\n",
       "      <th></th>\n",
       "      <th></th>\n",
       "      <th></th>\n",
       "      <th></th>\n",
       "      <th></th>\n",
       "      <th></th>\n",
       "      <th></th>\n",
       "      <th></th>\n",
       "      <th></th>\n",
       "      <th></th>\n",
       "      <th></th>\n",
       "      <th></th>\n",
       "      <th></th>\n",
       "    </tr>\n",
       "  </thead>\n",
       "  <tbody>\n",
       "    <tr>\n",
       "      <th rowspan=\"5\" valign=\"top\">1995</th>\n",
       "      <th>18</th>\n",
       "      <td>12.0</td>\n",
       "      <td>8.0</td>\n",
       "      <td>11.0</td>\n",
       "      <td>15.0</td>\n",
       "      <td>9.0</td>\n",
       "      <td>12.0</td>\n",
       "      <td>45.0</td>\n",
       "      <td>3.0</td>\n",
       "      <td>3.0</td>\n",
       "      <td>3.0</td>\n",
       "      <td>...</td>\n",
       "      <td>0</td>\n",
       "      <td>0</td>\n",
       "      <td>2</td>\n",
       "      <td>5</td>\n",
       "      <td>3</td>\n",
       "      <td>6</td>\n",
       "      <td>3</td>\n",
       "      <td>6</td>\n",
       "      <td>8.450652</td>\n",
       "      <td>8.424427</td>\n",
       "    </tr>\n",
       "    <tr>\n",
       "      <th>19</th>\n",
       "      <td>11.0</td>\n",
       "      <td>12.0</td>\n",
       "      <td>20.0</td>\n",
       "      <td>4.0</td>\n",
       "      <td>14.0</td>\n",
       "      <td>9.0</td>\n",
       "      <td>126.0</td>\n",
       "      <td>5.0</td>\n",
       "      <td>2.0</td>\n",
       "      <td>5.0</td>\n",
       "      <td>...</td>\n",
       "      <td>1</td>\n",
       "      <td>0</td>\n",
       "      <td>0</td>\n",
       "      <td>8</td>\n",
       "      <td>5</td>\n",
       "      <td>4</td>\n",
       "      <td>2</td>\n",
       "      <td>5</td>\n",
       "      <td>8.327885</td>\n",
       "      <td>8.481313</td>\n",
       "    </tr>\n",
       "    <tr>\n",
       "      <th>20</th>\n",
       "      <td>10.0</td>\n",
       "      <td>11.0</td>\n",
       "      <td>14.0</td>\n",
       "      <td>14.0</td>\n",
       "      <td>14.0</td>\n",
       "      <td>5.0</td>\n",
       "      <td>207.0</td>\n",
       "      <td>4.0</td>\n",
       "      <td>3.0</td>\n",
       "      <td>4.0</td>\n",
       "      <td>...</td>\n",
       "      <td>1</td>\n",
       "      <td>1</td>\n",
       "      <td>1</td>\n",
       "      <td>6</td>\n",
       "      <td>4</td>\n",
       "      <td>4</td>\n",
       "      <td>3</td>\n",
       "      <td>3</td>\n",
       "      <td>8.493855</td>\n",
       "      <td>8.367541</td>\n",
       "    </tr>\n",
       "    <tr>\n",
       "      <th>21</th>\n",
       "      <td>14.0</td>\n",
       "      <td>7.0</td>\n",
       "      <td>16.0</td>\n",
       "      <td>5.0</td>\n",
       "      <td>11.0</td>\n",
       "      <td>11.0</td>\n",
       "      <td>288.0</td>\n",
       "      <td>6.0</td>\n",
       "      <td>10.0</td>\n",
       "      <td>6.0</td>\n",
       "      <td>...</td>\n",
       "      <td>0</td>\n",
       "      <td>2</td>\n",
       "      <td>1</td>\n",
       "      <td>11</td>\n",
       "      <td>6</td>\n",
       "      <td>15</td>\n",
       "      <td>10</td>\n",
       "      <td>5</td>\n",
       "      <td>8.326999</td>\n",
       "      <td>8.428861</td>\n",
       "    </tr>\n",
       "    <tr>\n",
       "      <th>22</th>\n",
       "      <td>14.0</td>\n",
       "      <td>8.0</td>\n",
       "      <td>15.0</td>\n",
       "      <td>8.0</td>\n",
       "      <td>17.0</td>\n",
       "      <td>8.0</td>\n",
       "      <td>369.0</td>\n",
       "      <td>6.0</td>\n",
       "      <td>5.0</td>\n",
       "      <td>6.0</td>\n",
       "      <td>...</td>\n",
       "      <td>0</td>\n",
       "      <td>0</td>\n",
       "      <td>3</td>\n",
       "      <td>11</td>\n",
       "      <td>7</td>\n",
       "      <td>9</td>\n",
       "      <td>5</td>\n",
       "      <td>5</td>\n",
       "      <td>8.305714</td>\n",
       "      <td>8.357025</td>\n",
       "    </tr>\n",
       "    <tr>\n",
       "      <th>...</th>\n",
       "      <th>...</th>\n",
       "      <td>...</td>\n",
       "      <td>...</td>\n",
       "      <td>...</td>\n",
       "      <td>...</td>\n",
       "      <td>...</td>\n",
       "      <td>...</td>\n",
       "      <td>...</td>\n",
       "      <td>...</td>\n",
       "      <td>...</td>\n",
       "      <td>...</td>\n",
       "      <td>...</td>\n",
       "      <td>...</td>\n",
       "      <td>...</td>\n",
       "      <td>...</td>\n",
       "      <td>...</td>\n",
       "      <td>...</td>\n",
       "      <td>...</td>\n",
       "      <td>...</td>\n",
       "      <td>...</td>\n",
       "      <td>...</td>\n",
       "      <td>...</td>\n",
       "    </tr>\n",
       "    <tr>\n",
       "      <th rowspan=\"5\" valign=\"top\">2021</th>\n",
       "      <th>6</th>\n",
       "      <td>17.0</td>\n",
       "      <td>5.0</td>\n",
       "      <td>13.0</td>\n",
       "      <td>14.0</td>\n",
       "      <td>13.0</td>\n",
       "      <td>11.0</td>\n",
       "      <td>70677.0</td>\n",
       "      <td>6.0</td>\n",
       "      <td>6.0</td>\n",
       "      <td>6.0</td>\n",
       "      <td>...</td>\n",
       "      <td>0</td>\n",
       "      <td>0</td>\n",
       "      <td>2</td>\n",
       "      <td>11</td>\n",
       "      <td>6</td>\n",
       "      <td>11</td>\n",
       "      <td>6</td>\n",
       "      <td>9</td>\n",
       "      <td>8.422400</td>\n",
       "      <td>8.475358</td>\n",
       "    </tr>\n",
       "    <tr>\n",
       "      <th>7</th>\n",
       "      <td>15.0</td>\n",
       "      <td>16.0</td>\n",
       "      <td>18.0</td>\n",
       "      <td>12.0</td>\n",
       "      <td>17.0</td>\n",
       "      <td>9.0</td>\n",
       "      <td>70758.0</td>\n",
       "      <td>5.0</td>\n",
       "      <td>5.0</td>\n",
       "      <td>5.0</td>\n",
       "      <td>...</td>\n",
       "      <td>0</td>\n",
       "      <td>0</td>\n",
       "      <td>4</td>\n",
       "      <td>9</td>\n",
       "      <td>5</td>\n",
       "      <td>9</td>\n",
       "      <td>5</td>\n",
       "      <td>7</td>\n",
       "      <td>8.407830</td>\n",
       "      <td>8.414545</td>\n",
       "    </tr>\n",
       "    <tr>\n",
       "      <th>8</th>\n",
       "      <td>15.0</td>\n",
       "      <td>12.0</td>\n",
       "      <td>15.0</td>\n",
       "      <td>8.0</td>\n",
       "      <td>17.0</td>\n",
       "      <td>8.0</td>\n",
       "      <td>70839.0</td>\n",
       "      <td>5.0</td>\n",
       "      <td>4.0</td>\n",
       "      <td>5.0</td>\n",
       "      <td>...</td>\n",
       "      <td>1</td>\n",
       "      <td>1</td>\n",
       "      <td>0</td>\n",
       "      <td>8</td>\n",
       "      <td>5</td>\n",
       "      <td>6</td>\n",
       "      <td>4</td>\n",
       "      <td>5</td>\n",
       "      <td>8.235272</td>\n",
       "      <td>8.367921</td>\n",
       "    </tr>\n",
       "    <tr>\n",
       "      <th>9</th>\n",
       "      <td>19.0</td>\n",
       "      <td>10.0</td>\n",
       "      <td>15.0</td>\n",
       "      <td>14.0</td>\n",
       "      <td>13.0</td>\n",
       "      <td>11.0</td>\n",
       "      <td>70920.0</td>\n",
       "      <td>7.0</td>\n",
       "      <td>9.0</td>\n",
       "      <td>7.0</td>\n",
       "      <td>...</td>\n",
       "      <td>1</td>\n",
       "      <td>2</td>\n",
       "      <td>4</td>\n",
       "      <td>11</td>\n",
       "      <td>7</td>\n",
       "      <td>13</td>\n",
       "      <td>9</td>\n",
       "      <td>7</td>\n",
       "      <td>8.421513</td>\n",
       "      <td>8.408210</td>\n",
       "    </tr>\n",
       "    <tr>\n",
       "      <th>10</th>\n",
       "      <td>17.0</td>\n",
       "      <td>13.0</td>\n",
       "      <td>17.0</td>\n",
       "      <td>11.0</td>\n",
       "      <td>14.0</td>\n",
       "      <td>12.0</td>\n",
       "      <td>71001.0</td>\n",
       "      <td>11.0</td>\n",
       "      <td>16.0</td>\n",
       "      <td>11.0</td>\n",
       "      <td>...</td>\n",
       "      <td>1</td>\n",
       "      <td>4</td>\n",
       "      <td>2</td>\n",
       "      <td>17</td>\n",
       "      <td>11</td>\n",
       "      <td>22</td>\n",
       "      <td>16</td>\n",
       "      <td>7</td>\n",
       "      <td>8.423160</td>\n",
       "      <td>8.442924</td>\n",
       "    </tr>\n",
       "  </tbody>\n",
       "</table>\n",
       "<p>877 rows × 25 columns</p>\n",
       "</div>"
      ],
      "text/plain": [
       "               Htore  Gtore   UHT   UGT   SHT   SGT  Unnamed: 10    UP    SP  \\\n",
       "year Spieltag                                                                  \n",
       "1995 18         12.0    8.0  11.0  15.0   9.0  12.0         45.0   3.0   3.0   \n",
       "     19         11.0   12.0  20.0   4.0  14.0   9.0        126.0   5.0   2.0   \n",
       "     20         10.0   11.0  14.0  14.0  14.0   5.0        207.0   4.0   3.0   \n",
       "     21         14.0    7.0  16.0   5.0  11.0  11.0        288.0   6.0  10.0   \n",
       "     22         14.0    8.0  15.0   8.0  17.0   8.0        369.0   6.0   5.0   \n",
       "...              ...    ...   ...   ...   ...   ...          ...   ...   ...   \n",
       "2021 6          17.0    5.0  13.0  14.0  13.0  11.0      70677.0   6.0   6.0   \n",
       "     7          15.0   16.0  18.0  12.0  17.0   9.0      70758.0   5.0   5.0   \n",
       "     8          15.0   12.0  15.0   8.0  17.0   8.0      70839.0   5.0   4.0   \n",
       "     9          19.0   10.0  15.0  14.0  13.0  11.0      70920.0   7.0   9.0   \n",
       "     10         17.0   13.0  17.0  11.0  14.0  12.0      71001.0  11.0  16.0   \n",
       "\n",
       "               Spieltag.1  ...  same_result_uwe  same_result_schadix  \\\n",
       "year Spieltag              ...                                         \n",
       "1995 18               3.0  ...                0                    0   \n",
       "     19               5.0  ...                1                    0   \n",
       "     20               4.0  ...                1                    1   \n",
       "     21               6.0  ...                0                    2   \n",
       "     22               6.0  ...                0                    0   \n",
       "...                   ...  ...              ...                  ...   \n",
       "2021 6                6.0  ...                0                    0   \n",
       "     7                5.0  ...                0                    0   \n",
       "     8                5.0  ...                1                    1   \n",
       "     9                7.0  ...                1                    2   \n",
       "     10              11.0  ...                1                    4   \n",
       "\n",
       "               result_match_uwe_schadix  points_uwe  points_uwe_historic  \\\n",
       "year Spieltag                                                              \n",
       "1995 18                               2           5                    3   \n",
       "     19                               0           8                    5   \n",
       "     20                               1           6                    4   \n",
       "     21                               1          11                    6   \n",
       "     22                               3          11                    7   \n",
       "...                                 ...         ...                  ...   \n",
       "2021 6                                2          11                    6   \n",
       "     7                                4           9                    5   \n",
       "     8                                0           8                    5   \n",
       "     9                                4          11                    7   \n",
       "     10                               2          17                   11   \n",
       "\n",
       "               points_schadix  points_schadix_historic  \\\n",
       "year Spieltag                                            \n",
       "1995 18                     6                        3   \n",
       "     19                     4                        2   \n",
       "     20                     4                        3   \n",
       "     21                    15                       10   \n",
       "     22                     9                        5   \n",
       "...                       ...                      ...   \n",
       "2021 6                     11                        6   \n",
       "     7                      9                        5   \n",
       "     8                      6                        4   \n",
       "     9                     13                        9   \n",
       "     10                    22                       16   \n",
       "\n",
       "               same_tendenz_uwe_schadix  probability_count_uwe  \\\n",
       "year Spieltag                                                    \n",
       "1995 18                               6               8.450652   \n",
       "     19                               5               8.327885   \n",
       "     20                               3               8.493855   \n",
       "     21                               5               8.326999   \n",
       "     22                               5               8.305714   \n",
       "...                                 ...                    ...   \n",
       "2021 6                                9               8.422400   \n",
       "     7                                7               8.407830   \n",
       "     8                                5               8.235272   \n",
       "     9                                7               8.421513   \n",
       "     10                               7               8.423160   \n",
       "\n",
       "               probability_count_schadix  \n",
       "year Spieltag                             \n",
       "1995 18                         8.424427  \n",
       "     19                         8.481313  \n",
       "     20                         8.367541  \n",
       "     21                         8.428861  \n",
       "     22                         8.357025  \n",
       "...                                  ...  \n",
       "2021 6                          8.475358  \n",
       "     7                          8.414545  \n",
       "     8                          8.367921  \n",
       "     9                          8.408210  \n",
       "     10                         8.442924  \n",
       "\n",
       "[877 rows x 25 columns]"
      ]
     },
     "execution_count": 67,
     "metadata": {},
     "output_type": "execute_result"
    }
   ],
   "source": [
    "df_points_spieltag"
   ]
  },
  {
   "cell_type": "code",
   "execution_count": 68,
   "id": "d2fe5410",
   "metadata": {},
   "outputs": [
    {
     "data": {
      "text/plain": [
       "Index(['Htore', 'Gtore', 'UHT', 'UGT', 'SHT', 'SGT', 'Unnamed: 10', 'UP', 'SP',\n",
       "       'Spieltag.1', 'Unnamed: 14', 'correct_tendenz_uwe',\n",
       "       'correct_tendenz_schadix', 'same_goal_uwe', 'same_goal_schadix',\n",
       "       'same_result_uwe', 'same_result_schadix', 'result_match_uwe_schadix',\n",
       "       'points_uwe', 'points_uwe_historic', 'points_schadix',\n",
       "       'points_schadix_historic', 'same_tendenz_uwe_schadix',\n",
       "       'probability_count_uwe', 'probability_count_schadix'],\n",
       "      dtype='object')"
      ]
     },
     "execution_count": 68,
     "metadata": {},
     "output_type": "execute_result"
    }
   ],
   "source": [
    "df_points_spieltag.columns"
   ]
  },
  {
   "cell_type": "markdown",
   "id": "867455cb",
   "metadata": {},
   "source": [
    "## Schadix Spieltag mit den meisten Punkten"
   ]
  },
  {
   "cell_type": "code",
   "execution_count": 96,
   "id": "84602859",
   "metadata": {},
   "outputs": [
    {
     "data": {
      "text/plain": [
       "year  Spieltag\n",
       "2009  9           28\n",
       "Name: points_schadix, dtype: int64"
      ]
     },
     "execution_count": 96,
     "metadata": {},
     "output_type": "execute_result"
    }
   ],
   "source": [
    "df_points_spieltag[df_points_spieltag['points_schadix'] == df_points_spieltag['points_schadix'].max()]['points_schadix']"
   ]
  },
  {
   "cell_type": "code",
   "execution_count": 96,
   "id": "93c67f54",
   "metadata": {},
   "outputs": [
    {
     "data": {
      "text/plain": [
       "year  Spieltag\n",
       "2009  9           28\n",
       "Name: points_schadix, dtype: int64"
      ]
     },
     "execution_count": 96,
     "metadata": {},
     "output_type": "execute_result"
    }
   ],
   "source": [
    "df_points_spieltag[df_points_spieltag['points_schadix'] == df_points_spieltag['points_schadix'].max()]['points_schadix']"
   ]
  },
  {
   "cell_type": "markdown",
   "id": "318b3053",
   "metadata": {},
   "source": [
    "## Uwe Spieltag mit den meisten Punkten"
   ]
  },
  {
   "cell_type": "code",
   "execution_count": 95,
   "id": "4ea55fdf",
   "metadata": {},
   "outputs": [
    {
     "data": {
      "text/plain": [
       "year  Spieltag\n",
       "2000  2           23\n",
       "2004  22          23\n",
       "Name: points_uwe, dtype: int64"
      ]
     },
     "execution_count": 95,
     "metadata": {},
     "output_type": "execute_result"
    }
   ],
   "source": [
    "df_points_spieltag[df_points_spieltag['points_uwe'] == df_points_spieltag['points_uwe'].max()]['points_uwe']"
   ]
  },
  {
   "cell_type": "markdown",
   "id": "79c243fc",
   "metadata": {},
   "source": [
    "## Lucky? \n",
    "\n",
    "Wie hauefig einen Spieltag verloren selbst wenn mehr Tendenzen correct waren"
   ]
  },
  {
   "cell_type": "code",
   "execution_count": 74,
   "id": "83976044",
   "metadata": {},
   "outputs": [
    {
     "data": {
      "text/plain": [
       "Index(['Heim', 'Gast', 'Htore', 'Gtore', 'UHT', 'UGT', 'SHT', 'SGT',\n",
       "       'Spieltag', 'Saison', 'Unnamed: 10', 'UP', 'SP', 'Spieltag.1',\n",
       "       'Unnamed: 14', 'year', 'tendenz', 'tendenz_uwe', 'tendenz_schadix',\n",
       "       'correct_tendenz_uwe', 'correct_tendenz_schadix', 'same_goal_uwe',\n",
       "       'same_goal_schadix', 'same_result_uwe', 'same_result_schadix',\n",
       "       'result_match_uwe_schadix', 'points_uwe', 'points_uwe_historic',\n",
       "       'points_schadix', 'points_schadix_historic', 'result_string',\n",
       "       'result_string_uwe', 'result_string_schadix',\n",
       "       'same_tendenz_uwe_schadix', 'probability_count_uwe',\n",
       "       'probability_count_schadix'],\n",
       "      dtype='object')"
      ]
     },
     "execution_count": 74,
     "metadata": {},
     "output_type": "execute_result"
    }
   ],
   "source": [
    "df.columns"
   ]
  },
  {
   "cell_type": "code",
   "execution_count": 81,
   "id": "f843eb7f",
   "metadata": {},
   "outputs": [],
   "source": [
    "df_tendenz_points = df.groupby(['year', 'Spieltag']).sum(['correct_tendenz_uwe', \n",
    "                                                           'correct_tendenz_schadix', \n",
    "                                                           'points_uwe', \n",
    "                                                           'points_schadix'])"
   ]
  },
  {
   "cell_type": "code",
   "execution_count": null,
   "id": "98f45e27",
   "metadata": {},
   "outputs": [],
   "source": []
  },
  {
   "cell_type": "code",
   "execution_count": 83,
   "id": "ea79f488",
   "metadata": {},
   "outputs": [
    {
     "data": {
      "text/plain": [
       "year  Spieltag\n",
       "1995  18          2\n",
       "      19          3\n",
       "      20          2\n",
       "      21          5\n",
       "      22          4\n",
       "                 ..\n",
       "2021  6           5\n",
       "      7           4\n",
       "      8           3\n",
       "      9           4\n",
       "      10          6\n",
       "Name: correct_tendenz_uwe, Length: 877, dtype: int64"
      ]
     },
     "execution_count": 83,
     "metadata": {},
     "output_type": "execute_result"
    }
   ],
   "source": [
    "df_tendenz_points['correct_tendenz_uwe']"
   ]
  },
  {
   "cell_type": "code",
   "execution_count": 93,
   "id": "1131e2f0",
   "metadata": {},
   "outputs": [
    {
     "data": {
      "text/html": [
       "<div>\n",
       "<style scoped>\n",
       "    .dataframe tbody tr th:only-of-type {\n",
       "        vertical-align: middle;\n",
       "    }\n",
       "\n",
       "    .dataframe tbody tr th {\n",
       "        vertical-align: top;\n",
       "    }\n",
       "\n",
       "    .dataframe thead th {\n",
       "        text-align: right;\n",
       "    }\n",
       "</style>\n",
       "<table border=\"1\" class=\"dataframe\">\n",
       "  <thead>\n",
       "    <tr style=\"text-align: right;\">\n",
       "      <th></th>\n",
       "      <th></th>\n",
       "      <th>correct_tendenz_uwe</th>\n",
       "      <th>correct_tendenz_schadix</th>\n",
       "      <th>points_uwe</th>\n",
       "      <th>points_schadix</th>\n",
       "    </tr>\n",
       "    <tr>\n",
       "      <th>year</th>\n",
       "      <th>Spieltag</th>\n",
       "      <th></th>\n",
       "      <th></th>\n",
       "      <th></th>\n",
       "      <th></th>\n",
       "    </tr>\n",
       "  </thead>\n",
       "  <tbody>\n",
       "    <tr>\n",
       "      <th>1997</th>\n",
       "      <th>33</th>\n",
       "      <td>4</td>\n",
       "      <td>3</td>\n",
       "      <td>8</td>\n",
       "      <td>9</td>\n",
       "    </tr>\n",
       "    <tr>\n",
       "      <th>2002</th>\n",
       "      <th>21</th>\n",
       "      <td>5</td>\n",
       "      <td>4</td>\n",
       "      <td>10</td>\n",
       "      <td>11</td>\n",
       "    </tr>\n",
       "    <tr>\n",
       "      <th>2003</th>\n",
       "      <th>12</th>\n",
       "      <td>8</td>\n",
       "      <td>7</td>\n",
       "      <td>16</td>\n",
       "      <td>17</td>\n",
       "    </tr>\n",
       "    <tr>\n",
       "      <th rowspan=\"2\" valign=\"top\">2011</th>\n",
       "      <th>21</th>\n",
       "      <td>7</td>\n",
       "      <td>6</td>\n",
       "      <td>15</td>\n",
       "      <td>17</td>\n",
       "    </tr>\n",
       "    <tr>\n",
       "      <th>25</th>\n",
       "      <td>4</td>\n",
       "      <td>3</td>\n",
       "      <td>9</td>\n",
       "      <td>10</td>\n",
       "    </tr>\n",
       "    <tr>\n",
       "      <th>2014</th>\n",
       "      <th>33</th>\n",
       "      <td>5</td>\n",
       "      <td>4</td>\n",
       "      <td>11</td>\n",
       "      <td>13</td>\n",
       "    </tr>\n",
       "    <tr>\n",
       "      <th>2015</th>\n",
       "      <th>6</th>\n",
       "      <td>6</td>\n",
       "      <td>5</td>\n",
       "      <td>14</td>\n",
       "      <td>15</td>\n",
       "    </tr>\n",
       "  </tbody>\n",
       "</table>\n",
       "</div>"
      ],
      "text/plain": [
       "               correct_tendenz_uwe  correct_tendenz_schadix  points_uwe  \\\n",
       "year Spieltag                                                             \n",
       "1997 33                          4                        3           8   \n",
       "2002 21                          5                        4          10   \n",
       "2003 12                          8                        7          16   \n",
       "2011 21                          7                        6          15   \n",
       "     25                          4                        3           9   \n",
       "2014 33                          5                        4          11   \n",
       "2015 6                           6                        5          14   \n",
       "\n",
       "               points_schadix  \n",
       "year Spieltag                  \n",
       "1997 33                     9  \n",
       "2002 21                    11  \n",
       "2003 12                    17  \n",
       "2011 21                    17  \n",
       "     25                    10  \n",
       "2014 33                    13  \n",
       "2015 6                     15  "
      ]
     },
     "execution_count": 93,
     "metadata": {},
     "output_type": "execute_result"
    }
   ],
   "source": [
    "df_tendenz_points[ (df_tendenz_points['correct_tendenz_uwe'] \n",
    "                    > df_tendenz_points['correct_tendenz_schadix']) & \n",
    "                  (df_tendenz_points['points_uwe'] \n",
    "                   < df_tendenz_points['points_schadix']) ][['correct_tendenz_uwe', 'correct_tendenz_schadix', 'points_uwe', 'points_schadix']]"
   ]
  },
  {
   "cell_type": "code",
   "execution_count": 94,
   "id": "b6cef7b0",
   "metadata": {},
   "outputs": [
    {
     "data": {
      "text/html": [
       "<div>\n",
       "<style scoped>\n",
       "    .dataframe tbody tr th:only-of-type {\n",
       "        vertical-align: middle;\n",
       "    }\n",
       "\n",
       "    .dataframe tbody tr th {\n",
       "        vertical-align: top;\n",
       "    }\n",
       "\n",
       "    .dataframe thead th {\n",
       "        text-align: right;\n",
       "    }\n",
       "</style>\n",
       "<table border=\"1\" class=\"dataframe\">\n",
       "  <thead>\n",
       "    <tr style=\"text-align: right;\">\n",
       "      <th></th>\n",
       "      <th></th>\n",
       "      <th>correct_tendenz_uwe</th>\n",
       "      <th>correct_tendenz_schadix</th>\n",
       "      <th>points_uwe</th>\n",
       "      <th>points_schadix</th>\n",
       "    </tr>\n",
       "    <tr>\n",
       "      <th>year</th>\n",
       "      <th>Spieltag</th>\n",
       "      <th></th>\n",
       "      <th></th>\n",
       "      <th></th>\n",
       "      <th></th>\n",
       "    </tr>\n",
       "  </thead>\n",
       "  <tbody>\n",
       "    <tr>\n",
       "      <th>1996</th>\n",
       "      <th>4</th>\n",
       "      <td>4</td>\n",
       "      <td>5</td>\n",
       "      <td>11</td>\n",
       "      <td>10</td>\n",
       "    </tr>\n",
       "    <tr>\n",
       "      <th>1998</th>\n",
       "      <th>8</th>\n",
       "      <td>5</td>\n",
       "      <td>6</td>\n",
       "      <td>13</td>\n",
       "      <td>12</td>\n",
       "    </tr>\n",
       "    <tr>\n",
       "      <th>2001</th>\n",
       "      <th>28</th>\n",
       "      <td>5</td>\n",
       "      <td>6</td>\n",
       "      <td>16</td>\n",
       "      <td>14</td>\n",
       "    </tr>\n",
       "    <tr>\n",
       "      <th>2004</th>\n",
       "      <th>33</th>\n",
       "      <td>3</td>\n",
       "      <td>4</td>\n",
       "      <td>9</td>\n",
       "      <td>8</td>\n",
       "    </tr>\n",
       "    <tr>\n",
       "      <th>2008</th>\n",
       "      <th>11</th>\n",
       "      <td>4</td>\n",
       "      <td>5</td>\n",
       "      <td>13</td>\n",
       "      <td>12</td>\n",
       "    </tr>\n",
       "    <tr>\n",
       "      <th>2010</th>\n",
       "      <th>27</th>\n",
       "      <td>5</td>\n",
       "      <td>6</td>\n",
       "      <td>16</td>\n",
       "      <td>14</td>\n",
       "    </tr>\n",
       "    <tr>\n",
       "      <th>2011</th>\n",
       "      <th>32</th>\n",
       "      <td>3</td>\n",
       "      <td>4</td>\n",
       "      <td>9</td>\n",
       "      <td>8</td>\n",
       "    </tr>\n",
       "    <tr>\n",
       "      <th>2012</th>\n",
       "      <th>5</th>\n",
       "      <td>4</td>\n",
       "      <td>5</td>\n",
       "      <td>12</td>\n",
       "      <td>10</td>\n",
       "    </tr>\n",
       "    <tr>\n",
       "      <th>2016</th>\n",
       "      <th>26</th>\n",
       "      <td>5</td>\n",
       "      <td>7</td>\n",
       "      <td>16</td>\n",
       "      <td>14</td>\n",
       "    </tr>\n",
       "    <tr>\n",
       "      <th>2020</th>\n",
       "      <th>26</th>\n",
       "      <td>5</td>\n",
       "      <td>6</td>\n",
       "      <td>14</td>\n",
       "      <td>12</td>\n",
       "    </tr>\n",
       "  </tbody>\n",
       "</table>\n",
       "</div>"
      ],
      "text/plain": [
       "               correct_tendenz_uwe  correct_tendenz_schadix  points_uwe  \\\n",
       "year Spieltag                                                             \n",
       "1996 4                           4                        5          11   \n",
       "1998 8                           5                        6          13   \n",
       "2001 28                          5                        6          16   \n",
       "2004 33                          3                        4           9   \n",
       "2008 11                          4                        5          13   \n",
       "2010 27                          5                        6          16   \n",
       "2011 32                          3                        4           9   \n",
       "2012 5                           4                        5          12   \n",
       "2016 26                          5                        7          16   \n",
       "2020 26                          5                        6          14   \n",
       "\n",
       "               points_schadix  \n",
       "year Spieltag                  \n",
       "1996 4                     10  \n",
       "1998 8                     12  \n",
       "2001 28                    14  \n",
       "2004 33                     8  \n",
       "2008 11                    12  \n",
       "2010 27                    14  \n",
       "2011 32                     8  \n",
       "2012 5                     10  \n",
       "2016 26                    14  \n",
       "2020 26                    12  "
      ]
     },
     "execution_count": 94,
     "metadata": {},
     "output_type": "execute_result"
    }
   ],
   "source": [
    "df_tendenz_points[ (df_tendenz_points['correct_tendenz_schadix'] \n",
    "                    > df_tendenz_points['correct_tendenz_uwe']) & \n",
    "                  (df_tendenz_points['points_schadix'] \n",
    "                   < df_tendenz_points['points_uwe']) ][['correct_tendenz_uwe', 'correct_tendenz_schadix', 'points_uwe', 'points_schadix']]"
   ]
  },
  {
   "cell_type": "markdown",
   "id": "0df52b32",
   "metadata": {},
   "source": [
    "Wie haeufig vergessen zu tippen (gesamt und ueber zeit)"
   ]
  },
  {
   "cell_type": "markdown",
   "id": "7304d2a9",
   "metadata": {},
   "source": [
    "Mit welchen Mannschaften die meisten Punkte?"
   ]
  },
  {
   "cell_type": "markdown",
   "id": "f2b6bfc9",
   "metadata": {},
   "source": [
    "Gegen den Tabellenstand getippt? (Getippt dass die Mannschaft mit der hoeheren Tabellenposition-zahl gewinnt)"
   ]
  },
  {
   "cell_type": "markdown",
   "id": "1c70d630",
   "metadata": {},
   "source": [
    "Spieltagsiege (insgesamt, ueber-Zeit)"
   ]
  },
  {
   "cell_type": "code",
   "execution_count": null,
   "id": "4a94ef01",
   "metadata": {},
   "outputs": [],
   "source": []
  }
 ],
 "metadata": {
  "kernelspec": {
   "display_name": "Python 3 (ipykernel)",
   "language": "python",
   "name": "python3"
  },
  "language_info": {
   "codemirror_mode": {
    "name": "ipython",
    "version": 3
   },
   "file_extension": ".py",
   "mimetype": "text/x-python",
   "name": "python",
   "nbconvert_exporter": "python",
   "pygments_lexer": "ipython3",
   "version": "3.9.6"
  }
 },
 "nbformat": 4,
 "nbformat_minor": 5
}
